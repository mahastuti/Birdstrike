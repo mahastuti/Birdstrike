{
  "nbformat": 4,
  "nbformat_minor": 0,
  "metadata": {
    "colab": {
      "provenance": []
    },
    "kernelspec": {
      "name": "python3",
      "display_name": "Python 3"
    },
    "language_info": {
      "name": "python"
    }
  },
  "cells": [
    {
      "cell_type": "code",
      "execution_count": null,
      "metadata": {
        "colab": {
          "base_uri": "https://localhost:8080/"
        },
        "id": "KksHa-JSOMIc",
        "outputId": "eca4e91d-5beb-43df-e706-4daaab18627e"
      },
      "outputs": [
        {
          "output_type": "stream",
          "name": "stdout",
          "text": [
            "Requirement already satisfied: gspread in /usr/local/lib/python3.12/dist-packages (6.2.1)\n",
            "Requirement already satisfied: gspread-dataframe in /usr/local/lib/python3.12/dist-packages (4.0.0)\n",
            "Requirement already satisfied: oauth2client in /usr/local/lib/python3.12/dist-packages (4.1.3)\n",
            "Requirement already satisfied: google-auth>=1.12.0 in /usr/local/lib/python3.12/dist-packages (from gspread) (2.38.0)\n",
            "Requirement already satisfied: google-auth-oauthlib>=0.4.1 in /usr/local/lib/python3.12/dist-packages (from gspread) (1.2.2)\n",
            "Requirement already satisfied: pandas>=0.24.0 in /usr/local/lib/python3.12/dist-packages (from gspread-dataframe) (2.2.2)\n",
            "Requirement already satisfied: six>=1.12.0 in /usr/local/lib/python3.12/dist-packages (from gspread-dataframe) (1.17.0)\n",
            "Requirement already satisfied: httplib2>=0.9.1 in /usr/local/lib/python3.12/dist-packages (from oauth2client) (0.22.0)\n",
            "Requirement already satisfied: pyasn1>=0.1.7 in /usr/local/lib/python3.12/dist-packages (from oauth2client) (0.6.1)\n",
            "Requirement already satisfied: pyasn1-modules>=0.0.5 in /usr/local/lib/python3.12/dist-packages (from oauth2client) (0.4.2)\n",
            "Requirement already satisfied: rsa>=3.1.4 in /usr/local/lib/python3.12/dist-packages (from oauth2client) (4.9.1)\n",
            "Requirement already satisfied: cachetools<6.0,>=2.0.0 in /usr/local/lib/python3.12/dist-packages (from google-auth>=1.12.0->gspread) (5.5.2)\n",
            "Requirement already satisfied: requests-oauthlib>=0.7.0 in /usr/local/lib/python3.12/dist-packages (from google-auth-oauthlib>=0.4.1->gspread) (2.0.0)\n",
            "Requirement already satisfied: pyparsing!=3.0.0,!=3.0.1,!=3.0.2,!=3.0.3,<4,>=2.4.2 in /usr/local/lib/python3.12/dist-packages (from httplib2>=0.9.1->oauth2client) (3.2.3)\n",
            "Requirement already satisfied: numpy>=1.26.0 in /usr/local/lib/python3.12/dist-packages (from pandas>=0.24.0->gspread-dataframe) (2.0.2)\n",
            "Requirement already satisfied: python-dateutil>=2.8.2 in /usr/local/lib/python3.12/dist-packages (from pandas>=0.24.0->gspread-dataframe) (2.9.0.post0)\n",
            "Requirement already satisfied: pytz>=2020.1 in /usr/local/lib/python3.12/dist-packages (from pandas>=0.24.0->gspread-dataframe) (2025.2)\n",
            "Requirement already satisfied: tzdata>=2022.7 in /usr/local/lib/python3.12/dist-packages (from pandas>=0.24.0->gspread-dataframe) (2025.2)\n",
            "Requirement already satisfied: oauthlib>=3.0.0 in /usr/local/lib/python3.12/dist-packages (from requests-oauthlib>=0.7.0->google-auth-oauthlib>=0.4.1->gspread) (3.3.1)\n",
            "Requirement already satisfied: requests>=2.0.0 in /usr/local/lib/python3.12/dist-packages (from requests-oauthlib>=0.7.0->google-auth-oauthlib>=0.4.1->gspread) (2.32.4)\n",
            "Requirement already satisfied: charset_normalizer<4,>=2 in /usr/local/lib/python3.12/dist-packages (from requests>=2.0.0->requests-oauthlib>=0.7.0->google-auth-oauthlib>=0.4.1->gspread) (3.4.3)\n",
            "Requirement already satisfied: idna<4,>=2.5 in /usr/local/lib/python3.12/dist-packages (from requests>=2.0.0->requests-oauthlib>=0.7.0->google-auth-oauthlib>=0.4.1->gspread) (3.10)\n",
            "Requirement already satisfied: urllib3<3,>=1.21.1 in /usr/local/lib/python3.12/dist-packages (from requests>=2.0.0->requests-oauthlib>=0.7.0->google-auth-oauthlib>=0.4.1->gspread) (2.5.0)\n",
            "Requirement already satisfied: certifi>=2017.4.17 in /usr/local/lib/python3.12/dist-packages (from requests>=2.0.0->requests-oauthlib>=0.7.0->google-auth-oauthlib>=0.4.1->gspread) (2025.8.3)\n"
          ]
        }
      ],
      "source": [
        "-#!pip install gspread gspread-dataframe oauth2client"
      ]
    },
    {
      "cell_type": "code",
      "source": [
        "from google.colab import auth\n",
        "auth.authenticate_user()\n",
        "\n",
        "import gspread\n",
        "from google.auth import default\n",
        "\n",
        "creds, _ = default()\n",
        "gc = gspread.authorize(creds)"
      ],
      "metadata": {
        "id": "AxBNTzmyOYnm"
      },
      "execution_count": null,
      "outputs": []
    },
    {
      "cell_type": "code",
      "source": [
        "# buka file Google Sheets\n",
        "sh = gc.open(\"Data\")   # ganti sesuai nama file Google Sheets kamu\n",
        "\n",
        "# pilih worksheet/tab bernama \"(1) Data Model\"\n",
        "worksheet = sh.worksheet(\"(1) Data Model\")\n",
        "\n",
        "# baca isi worksheet ke DataFrame\n",
        "import pandas as pd\n",
        "from gspread_dataframe import get_as_dataframe\n",
        "\n",
        "df = get_as_dataframe(worksheet, evaluate_formulas=True, header=0)\n",
        "\n",
        "# cek 5 baris awal\n",
        "print(df.head())"
      ],
      "metadata": {
        "colab": {
          "base_uri": "https://localhost:8080/"
        },
        "id": "c-WSmI9yQrtM",
        "outputId": "e4accc12-0c71-4f7d-a1cf-a3a2a7b194ab"
      },
      "execution_count": null,
      "outputs": [
        {
          "output_type": "stream",
          "name": "stdout",
          "text": [
            "   tahun  tanggal  bulan       jam  waktu    cuaca  \\\n",
            "0   2025        1      1   6:33 PM  Malam    Hujan   \n",
            "1   2025        6      1   6:17 PM  Malam  Mendung   \n",
            "2   2025        9      2   4:10 PM   Sore  Mendung   \n",
            "3   2025       21      2  10:18 AM  Siang    Hujan   \n",
            "4   2025       25      2  12:55 PM  Siang    Hujan   \n",
            "\n",
            "   jumlah burung pada titik x  titik      fase  strike  \n",
            "0                   88.142857      2   Landing       1  \n",
            "1                   52.666667      1   Landing       1  \n",
            "2                   52.666667      1   Landing       1  \n",
            "3                   95.571429      5  Take Off       1  \n",
            "4                   88.142857      2   Landing       1  \n"
          ]
        }
      ]
    },
    {
      "cell_type": "code",
      "source": [
        "print(\"Data terakhir:\", df.shape)"
      ],
      "metadata": {
        "colab": {
          "base_uri": "https://localhost:8080/"
        },
        "id": "_T675aO0QrhK",
        "outputId": "11be1e93-094e-42e2-a636-19034665dff7"
      },
      "execution_count": null,
      "outputs": [
        {
          "output_type": "stream",
          "name": "stdout",
          "text": [
            "Data terakhir: (52859, 10)\n"
          ]
        }
      ]
    },
    {
      "cell_type": "code",
      "source": [
        "df.info()"
      ],
      "metadata": {
        "colab": {
          "base_uri": "https://localhost:8080/"
        },
        "id": "r7x0VJpyP9Jh",
        "outputId": "0d66cce8-ab17-40fd-c472-f7baaddfc807"
      },
      "execution_count": null,
      "outputs": [
        {
          "output_type": "stream",
          "name": "stdout",
          "text": [
            "<class 'pandas.core.frame.DataFrame'>\n",
            "RangeIndex: 52859 entries, 0 to 52858\n",
            "Data columns (total 10 columns):\n",
            " #   Column                      Non-Null Count  Dtype  \n",
            "---  ------                      --------------  -----  \n",
            " 0   tahun                       52859 non-null  int64  \n",
            " 1   tanggal                     52859 non-null  int64  \n",
            " 2   bulan                       52859 non-null  int64  \n",
            " 3   jam                         52859 non-null  object \n",
            " 4   waktu                       52859 non-null  object \n",
            " 5   cuaca                       52707 non-null  object \n",
            " 6   jumlah burung pada titik x  52859 non-null  float64\n",
            " 7   titik                       52859 non-null  int64  \n",
            " 8   fase                        52859 non-null  object \n",
            " 9   strike                      52859 non-null  int64  \n",
            "dtypes: float64(1), int64(5), object(4)\n",
            "memory usage: 4.0+ MB\n"
          ]
        }
      ]
    },
    {
      "cell_type": "markdown",
      "source": [
        "# Pre Processing"
      ],
      "metadata": {
        "id": "YcfSMxFZXEj4"
      }
    },
    {
      "cell_type": "code",
      "source": [
        "import calendar\n",
        "\n",
        "# 1. Memperbaiki format tanggal dimana kolom 'tanggal', 'bulan' dan 'tahun' dijadikan satu\n",
        "\n",
        "def fix_date(row):\n",
        "    y, m, d = row[\"tahun\"], row[\"bulan\"], row[\"tanggal\"]\n",
        "\n",
        "    # cek jumlah hari maksimal di bulan itu\n",
        "    max_day = calendar.monthrange(y, m)[1]  # contoh: Feb 2025 → 28\n",
        "\n",
        "    # kalau tanggal lebih besar dari max_day → turunin ke max_day\n",
        "    if d > max_day:\n",
        "        d = max_day\n",
        "\n",
        "    try:\n",
        "        return pd.Timestamp(year=y, month=m, day=d)\n",
        "    except:\n",
        "        return pd.NaT\n",
        "\n",
        "df[\"tanggal_fix\"] = df.apply(fix_date, axis=1)\n"
      ],
      "metadata": {
        "id": "TtYPPOEtXJ09"
      },
      "execution_count": null,
      "outputs": []
    },
    {
      "cell_type": "code",
      "source": [
        "df.info()"
      ],
      "metadata": {
        "colab": {
          "base_uri": "https://localhost:8080/"
        },
        "id": "O6z_-YIUXI_2",
        "outputId": "44958ad2-1a03-40c2-bfbb-b561526d2023"
      },
      "execution_count": null,
      "outputs": [
        {
          "output_type": "stream",
          "name": "stdout",
          "text": [
            "<class 'pandas.core.frame.DataFrame'>\n",
            "RangeIndex: 52859 entries, 0 to 52858\n",
            "Data columns (total 11 columns):\n",
            " #   Column                      Non-Null Count  Dtype         \n",
            "---  ------                      --------------  -----         \n",
            " 0   tahun                       52859 non-null  int64         \n",
            " 1   tanggal                     52859 non-null  int64         \n",
            " 2   bulan                       52859 non-null  int64         \n",
            " 3   jam                         52859 non-null  object        \n",
            " 4   waktu                       52859 non-null  object        \n",
            " 5   cuaca                       52707 non-null  object        \n",
            " 6   jumlah burung pada titik x  52859 non-null  float64       \n",
            " 7   titik                       52859 non-null  int64         \n",
            " 8   fase                        52859 non-null  object        \n",
            " 9   strike                      52859 non-null  int64         \n",
            " 10  tanggal_fix                 52859 non-null  datetime64[ns]\n",
            "dtypes: datetime64[ns](1), float64(1), int64(5), object(4)\n",
            "memory usage: 4.4+ MB\n"
          ]
        }
      ]
    },
    {
      "cell_type": "code",
      "source": [
        "# Cek Missing Value\n",
        "missing_values = df.isna().sum()\n",
        "percentage_missing = (missing_values / len(df)) * 100\n",
        "\n",
        "missing_data_summary = pd.DataFrame({\n",
        "    'Jumlah Missing': missing_values,\n",
        "    'Persentase Missing (%)': percentage_missing\n",
        "})\n",
        "\n",
        "print(\"Ringkasan Missing Values pada Dataset:\")\n",
        "print(missing_data_summary)"
      ],
      "metadata": {
        "colab": {
          "base_uri": "https://localhost:8080/"
        },
        "id": "f2b7k855afPK",
        "outputId": "f9f2fa12-78f7-46d9-d1b1-f168fad58d72"
      },
      "execution_count": null,
      "outputs": [
        {
          "output_type": "stream",
          "name": "stdout",
          "text": [
            "Ringkasan Missing Values pada Dataset:\n",
            "                            Jumlah Missing  Persentase Missing (%)\n",
            "tahun                                    0                0.000000\n",
            "tanggal                                  0                0.000000\n",
            "bulan                                    0                0.000000\n",
            "jam                                      0                0.000000\n",
            "waktu                                    0                0.000000\n",
            "cuaca                                  152                0.287557\n",
            "jumlah burung pada titik x               0                0.000000\n",
            "titik                                    0                0.000000\n",
            "fase                                     0                0.000000\n",
            "strike                                   0                0.000000\n",
            "tanggal_fix                              0                0.000000\n"
          ]
        }
      ]
    },
    {
      "cell_type": "markdown",
      "source": [
        "- Masih terdapat missing value pada kolom 'cuaca' maka dilakukan imputasi"
      ],
      "metadata": {
        "id": "uiEeZbUIaP0x"
      }
    },
    {
      "cell_type": "code",
      "source": [
        "# 2. Contoh: isi cuaca hilang dengan modus per bulan\n",
        "df['cuaca'] = df.groupby('bulan')['cuaca'].transform(lambda x: x.fillna(x.mode()[0] if not x.mode().empty else 'Tidak Tercatat'))"
      ],
      "metadata": {
        "id": "r8YA_H4gXIy1"
      },
      "execution_count": null,
      "outputs": []
    },
    {
      "cell_type": "code",
      "source": [
        "# Cek Missing Value\n",
        "missing_values = df.isna().sum()\n",
        "percentage_missing = (missing_values / len(df)) * 100\n",
        "\n",
        "missing_data_summary = pd.DataFrame({\n",
        "    'Jumlah Missing': missing_values,\n",
        "    'Persentase Missing (%)': percentage_missing\n",
        "})\n",
        "\n",
        "print(\"Ringkasan Missing Values pada Dataset:\")\n",
        "print(missing_data_summary)"
      ],
      "metadata": {
        "colab": {
          "base_uri": "https://localhost:8080/"
        },
        "id": "ZPp8M3ZybJNg",
        "outputId": "c5aab407-e788-473b-b279-eb55774718f8"
      },
      "execution_count": null,
      "outputs": [
        {
          "output_type": "stream",
          "name": "stdout",
          "text": [
            "Ringkasan Missing Values pada Dataset:\n",
            "                            Jumlah Missing  Persentase Missing (%)\n",
            "tahun                                    0                     0.0\n",
            "tanggal                                  0                     0.0\n",
            "bulan                                    0                     0.0\n",
            "jam                                      0                     0.0\n",
            "waktu                                    0                     0.0\n",
            "cuaca                                    0                     0.0\n",
            "jumlah burung pada titik x               0                     0.0\n",
            "titik                                    0                     0.0\n",
            "fase                                     0                     0.0\n",
            "strike                                   0                     0.0\n",
            "tanggal_fix                              0                     0.0\n"
          ]
        }
      ]
    },
    {
      "cell_type": "code",
      "source": [
        "# 3. Cek jumlah baris duplikat di seluruh kolom\n",
        "jumlah_duplikat = df.duplicated().sum()\n",
        "print(f\"Jumlah baris duplikat: {jumlah_duplikat}\")"
      ],
      "metadata": {
        "colab": {
          "base_uri": "https://localhost:8080/"
        },
        "id": "t-0EUIS8acIw",
        "outputId": "83a8274b-ec32-4853-d734-25c2167d903f"
      },
      "execution_count": null,
      "outputs": [
        {
          "output_type": "stream",
          "name": "stdout",
          "text": [
            "Jumlah baris duplikat: 50\n"
          ]
        }
      ]
    },
    {
      "cell_type": "markdown",
      "source": [
        "- Data yang teridentifikasi sebagai duplikat tidak dieliminasi pada tahap pra-pemrosesan karena secara substansi tidak merepresentasikan pencatatan ganda. Kasus yang tampak serupa dapat berasal dari penerbangan yang berbeda (arrival maupun departure) atau dari maskapai yang berbeda yang beroperasi pada waktu dan titik yang sama. Oleh karena itu, penghapusan entri tersebut berpotensi menghilangkan informasi penting terkait variasi pergerakan pesawat dan potensi kejadian bird strike."
      ],
      "metadata": {
        "id": "kFyyHSDzboDG"
      }
    },
    {
      "cell_type": "code",
      "source": [
        "df.info()"
      ],
      "metadata": {
        "colab": {
          "base_uri": "https://localhost:8080/"
        },
        "id": "VxwPzRwkbK-h",
        "outputId": "5a6e020f-84b0-4ae2-d40b-80c9655b928d"
      },
      "execution_count": null,
      "outputs": [
        {
          "output_type": "stream",
          "name": "stdout",
          "text": [
            "<class 'pandas.core.frame.DataFrame'>\n",
            "RangeIndex: 52859 entries, 0 to 52858\n",
            "Data columns (total 11 columns):\n",
            " #   Column                      Non-Null Count  Dtype         \n",
            "---  ------                      --------------  -----         \n",
            " 0   tahun                       52859 non-null  int64         \n",
            " 1   tanggal                     52859 non-null  int64         \n",
            " 2   bulan                       52859 non-null  int64         \n",
            " 3   jam                         52859 non-null  object        \n",
            " 4   waktu                       52859 non-null  object        \n",
            " 5   cuaca                       52859 non-null  object        \n",
            " 6   jumlah burung pada titik x  52859 non-null  float64       \n",
            " 7   titik                       52859 non-null  int64         \n",
            " 8   fase                        52859 non-null  object        \n",
            " 9   strike                      52859 non-null  int64         \n",
            " 10  tanggal_fix                 52859 non-null  datetime64[ns]\n",
            "dtypes: datetime64[ns](1), float64(1), int64(5), object(4)\n",
            "memory usage: 4.4+ MB\n"
          ]
        }
      ]
    },
    {
      "cell_type": "markdown",
      "source": [
        "# Exploratory Data Analysis (EDA)"
      ],
      "metadata": {
        "id": "mU6d2n9Mg-FY"
      }
    },
    {
      "cell_type": "code",
      "source": [
        "# ringkasan\n",
        "print(df.info())\n",
        "print(df.describe(include=\"all\"))\n",
        "\n",
        "# cek missing values\n",
        "print(df.isna().sum())"
      ],
      "metadata": {
        "colab": {
          "base_uri": "https://localhost:8080/"
        },
        "id": "Pbh5j26OcjDc",
        "outputId": "93ff9c08-92e7-4261-b734-7ae8b5b1d8c8"
      },
      "execution_count": null,
      "outputs": [
        {
          "output_type": "stream",
          "name": "stdout",
          "text": [
            "<class 'pandas.core.frame.DataFrame'>\n",
            "RangeIndex: 52859 entries, 0 to 52858\n",
            "Data columns (total 11 columns):\n",
            " #   Column                      Non-Null Count  Dtype         \n",
            "---  ------                      --------------  -----         \n",
            " 0   tahun                       52859 non-null  int64         \n",
            " 1   tanggal                     52859 non-null  int64         \n",
            " 2   bulan                       52859 non-null  int64         \n",
            " 3   jam                         52859 non-null  object        \n",
            " 4   waktu                       52859 non-null  object        \n",
            " 5   cuaca                       52859 non-null  object        \n",
            " 6   jumlah burung pada titik x  52859 non-null  float64       \n",
            " 7   titik                       52859 non-null  int64         \n",
            " 8   fase                        52859 non-null  object        \n",
            " 9   strike                      52859 non-null  int64         \n",
            " 10  tanggal_fix                 52859 non-null  datetime64[ns]\n",
            "dtypes: datetime64[ns](1), float64(1), int64(5), object(4)\n",
            "memory usage: 4.4+ MB\n",
            "None\n",
            "          tahun       tanggal         bulan      jam  waktu    cuaca  \\\n",
            "count   52859.0  52859.000000  52859.000000    52859  52859    52859   \n",
            "unique      NaN           NaN           NaN     1253      6        4   \n",
            "top         NaN           NaN           NaN  5:11 AM   Pagi  Mendung   \n",
            "freq        NaN           NaN           NaN       98  15738    20747   \n",
            "mean     2025.0     15.825157      4.089975      NaN    NaN      NaN   \n",
            "min      2025.0      1.000000      1.000000      NaN    NaN      NaN   \n",
            "25%      2025.0      8.000000      2.000000      NaN    NaN      NaN   \n",
            "50%      2025.0     16.000000      4.000000      NaN    NaN      NaN   \n",
            "75%      2025.0     23.000000      6.000000      NaN    NaN      NaN   \n",
            "max      2025.0     31.000000      7.000000      NaN    NaN      NaN   \n",
            "std         0.0      8.767351      2.008354      NaN    NaN      NaN   \n",
            "\n",
            "        jumlah burung pada titik x         titik     fase        strike  \\\n",
            "count                 52859.000000  52859.000000    52859  52859.000000   \n",
            "unique                         NaN           NaN        2           NaN   \n",
            "top                            NaN           NaN  Landing           NaN   \n",
            "freq                           NaN           NaN    26446           NaN   \n",
            "mean                     65.598616      4.032010      NaN      0.000927   \n",
            "min                      12.000000      1.000000      NaN      0.000000   \n",
            "25%                      52.666667      2.000000      NaN      0.000000   \n",
            "50%                      74.000000      4.000000      NaN      0.000000   \n",
            "75%                      88.142857      5.000000      NaN      0.000000   \n",
            "max                      95.571429      8.000000      NaN      1.000000   \n",
            "std                      24.608578      2.225024      NaN      0.030433   \n",
            "\n",
            "                          tanggal_fix  \n",
            "count                           52859  \n",
            "unique                            NaN  \n",
            "top                               NaN  \n",
            "freq                              NaN  \n",
            "mean    2025-04-18 19:24:43.001948672  \n",
            "min               2025-01-01 00:00:00  \n",
            "25%               2025-02-25 00:00:00  \n",
            "50%               2025-04-20 00:00:00  \n",
            "75%               2025-06-12 00:00:00  \n",
            "max               2025-07-31 00:00:00  \n",
            "std                               NaN  \n",
            "tahun                         0\n",
            "tanggal                       0\n",
            "bulan                         0\n",
            "jam                           0\n",
            "waktu                         0\n",
            "cuaca                         0\n",
            "jumlah burung pada titik x    0\n",
            "titik                         0\n",
            "fase                          0\n",
            "strike                        0\n",
            "tanggal_fix                   0\n",
            "dtype: int64\n"
          ]
        }
      ]
    },
    {
      "cell_type": "markdown",
      "source": [
        "## Analisis Univariate (tiap variabel)"
      ],
      "metadata": {
        "id": "i6OihtVSra2T"
      }
    },
    {
      "cell_type": "code",
      "source": [
        "# Distribusi Strike\n",
        "df[\"strike\"].value_counts(normalize=True).plot(kind=\"bar\", title=\"Distribusi Strike\")"
      ],
      "metadata": {
        "colab": {
          "base_uri": "https://localhost:8080/",
          "height": 484
        },
        "id": "wSFQ2N3lci3A",
        "outputId": "fce48210-db0d-4a3e-fbde-4c3693033668"
      },
      "execution_count": null,
      "outputs": [
        {
          "output_type": "execute_result",
          "data": {
            "text/plain": [
              "<Axes: title={'center': 'Distribusi Strike'}, xlabel='strike'>"
            ]
          },
          "metadata": {},
          "execution_count": 16
        },
        {
          "output_type": "display_data",
          "data": {
            "text/plain": [
              "<Figure size 640x480 with 1 Axes>"
            ],
            "image/png": "[encoded data removed]"
          },
          "metadata": {}
        }
      ]
    },
    {
      "cell_type": "code",
      "source": [
        "# Distribusi jumlah burung\n",
        "df[\"jumlah burung pada titik x\"].hist(bins=30)"
      ],
      "metadata": {
        "colab": {
          "base_uri": "https://localhost:8080/",
          "height": 447
        },
        "id": "H1dfD_ZThWvl",
        "outputId": "dff7645e-cdc2-4e8d-bcbe-7eadc32a188b"
      },
      "execution_count": null,
      "outputs": [
        {
          "output_type": "execute_result",
          "data": {
            "text/plain": [
              "<Axes: >"
            ]
          },
          "metadata": {},
          "execution_count": 17
        },
        {
          "output_type": "display_data",
          "data": {
            "text/plain": [
              "<Figure size 640x480 with 1 Axes>"
            ],
            "image/png": "[encoded data removed]"
          },
          "metadata": {}
        }
      ]
    },
    {
      "cell_type": "code",
      "source": [
        "# Distribusi titik lokasi\n",
        "df[\"titik\"].value_counts().plot(kind=\"bar\", title=\"Frekuensi per Titik Lokasi\")"
      ],
      "metadata": {
        "colab": {
          "base_uri": "https://localhost:8080/",
          "height": 484
        },
        "id": "emvLc_3nhgvb",
        "outputId": "a9c3ac8e-996d-4bae-f429-27d5be1b7bfa"
      },
      "execution_count": null,
      "outputs": [
        {
          "output_type": "execute_result",
          "data": {
            "text/plain": [
              "<Axes: title={'center': 'Frekuensi per Titik Lokasi'}, xlabel='titik'>"
            ]
          },
          "metadata": {},
          "execution_count": 18
        },
        {
          "output_type": "display_data",
          "data": {
            "text/plain": [
              "<Figure size 640x480 with 1 Axes>"
            ],
            "image/png": "[encoded data removed]"
          },
          "metadata": {}
        }
      ]
    },
    {
      "cell_type": "code",
      "source": [
        "# Distribusi fase penerbangan\n",
        "df[\"fase\"].value_counts().plot(kind=\"bar\", title=\"Distribusi Fase Penerbangan\")\n"
      ],
      "metadata": {
        "colab": {
          "base_uri": "https://localhost:8080/",
          "height": 531
        },
        "id": "1IeGiDpfhgng",
        "outputId": "be7cbb9a-ac00-4452-b9dd-892373d750b1"
      },
      "execution_count": null,
      "outputs": [
        {
          "output_type": "execute_result",
          "data": {
            "text/plain": [
              "<Axes: title={'center': 'Distribusi Fase Penerbangan'}, xlabel='fase'>"
            ]
          },
          "metadata": {},
          "execution_count": 19
        },
        {
          "output_type": "display_data",
          "data": {
            "text/plain": [
              "<Figure size 640x480 with 1 Axes>"
            ],
            "image/png": "[encoded data removed]"
          },
          "metadata": {}
        }
      ]
    },
    {
      "cell_type": "markdown",
      "source": [
        "## Analisis Bivariate (hubungan variabel dengan strike)"
      ],
      "metadata": {
        "id": "R67IMhpLtVrd"
      }
    },
    {
      "cell_type": "code",
      "source": [
        "# Strike vs Cuaca\n",
        "pd.crosstab(df[\"cuaca\"], df[\"strike\"], normalize=\"index\").plot(kind=\"bar\", stacked=True)"
      ],
      "metadata": {
        "colab": {
          "base_uri": "https://localhost:8080/",
          "height": 559
        },
        "id": "AhyFnA2XhgZd",
        "outputId": "8c900262-d2d3-4a0b-f97b-77cec3b41bbc"
      },
      "execution_count": null,
      "outputs": [
        {
          "output_type": "execute_result",
          "data": {
            "text/plain": [
              "<Axes: xlabel='cuaca'>"
            ]
          },
          "metadata": {},
          "execution_count": 20
        },
        {
          "output_type": "display_data",
          "data": {
            "text/plain": [
              "<Figure size 640x480 with 1 Axes>"
            ],
            "image/png": "[encoded data removed]"
          },
          "metadata": {}
        }
      ]
    },
    {
      "cell_type": "code",
      "source": [
        "# Strike vs Titik\n",
        "# pd.crosstab(df[\"titik\"], df[\"strike\"], normalize=\"index\").plot(kind=\"bar\", stacked=True)"
      ],
      "metadata": {
        "id": "FPvchDdOp0eq"
      },
      "execution_count": null,
      "outputs": []
    },
    {
      "cell_type": "code",
      "source": [
        "# Jumlah burung vs Strike\n",
        "import seaborn as sns\n",
        "sns.boxplot(x=\"strike\", y=\"jumlah burung pada titik x\", data=df)"
      ],
      "metadata": {
        "colab": {
          "base_uri": "https://localhost:8080/",
          "height": 466
        },
        "id": "mYLA7_izt4Hm",
        "outputId": "a223e60e-bb11-4255-cffa-38f11022a576"
      },
      "execution_count": null,
      "outputs": [
        {
          "output_type": "execute_result",
          "data": {
            "text/plain": [
              "<Axes: xlabel='strike', ylabel='jumlah burung pada titik x'>"
            ]
          },
          "metadata": {},
          "execution_count": 18
        },
        {
          "output_type": "display_data",
          "data": {
            "text/plain": [
              "<Figure size 640x480 with 1 Axes>"
            ],
            "image/png": "[encoded data removed]"
          },
          "metadata": {}
        }
      ]
    },
    {
      "cell_type": "markdown",
      "source": [
        "## Analisis Time Series"
      ],
      "metadata": {
        "id": "hdb36of3uF_h"
      }
    },
    {
      "cell_type": "code",
      "source": [
        "df.groupby(\"bulan\")[\"strike\"].sum().plot(kind=\"bar\", title=\"Jumlah Strike per Bulan\")"
      ],
      "metadata": {
        "colab": {
          "base_uri": "https://localhost:8080/",
          "height": 484
        },
        "id": "OdgPBL04t_oU",
        "outputId": "f60e6c1a-cae0-4a80-aa9c-1436bb4d63e3"
      },
      "execution_count": null,
      "outputs": [
        {
          "output_type": "execute_result",
          "data": {
            "text/plain": [
              "<Axes: title={'center': 'Jumlah Strike per Bulan'}, xlabel='bulan'>"
            ]
          },
          "metadata": {},
          "execution_count": 23
        },
        {
          "output_type": "display_data",
          "data": {
            "text/plain": [
              "<Figure size 640x480 with 1 Axes>"
            ],
            "image/png": "[encoded data removed]"
          },
          "metadata": {}
        }
      ]
    },
    {
      "cell_type": "code",
      "source": [
        "df.groupby(df[\"tanggal_fix\"].dt.to_period(\"M\"))[\"strike\"].sum().plot(kind=\"line\", title=\"Strike per Bulan\")\n"
      ],
      "metadata": {
        "colab": {
          "base_uri": "https://localhost:8080/",
          "height": 505
        },
        "id": "MB82c-IPuJBB",
        "outputId": "321ca54e-8aad-485f-c74e-aebca07c1702"
      },
      "execution_count": null,
      "outputs": [
        {
          "output_type": "execute_result",
          "data": {
            "text/plain": [
              "<Axes: title={'center': 'Strike per Bulan'}, xlabel='tanggal_fix'>"
            ]
          },
          "metadata": {},
          "execution_count": 24
        },
        {
          "output_type": "display_data",
          "data": {
            "text/plain": [
              "<Figure size 640x480 with 1 Axes>"
            ],
            "image/png": "[encoded data removed]"
          },
          "metadata": {}
        }
      ]
    },
    {
      "cell_type": "code",
      "source": [
        "df[\"jam_int\"] = pd.to_datetime(df[\"jam\"], errors=\"coerce\").dt.hour\n",
        "df.groupby(\"jam_int\")[\"strike\"].mean().plot(kind=\"bar\", title=\"Probabilitas Strike per Jam\")"
      ],
      "metadata": {
        "colab": {
          "base_uri": "https://localhost:8080/",
          "height": 528
        },
        "id": "q9UHiLHAuM4m",
        "outputId": "de39342f-a555-44f3-9f9a-f5230592f32a"
      },
      "execution_count": null,
      "outputs": [
        {
          "output_type": "stream",
          "name": "stderr",
          "text": [
            "/tmp/ipython-input-1048436562.py:1: UserWarning: Could not infer format, so each element will be parsed individually, falling back to `dateutil`. To ensure parsing is consistent and as-expected, please specify a format.\n",
            "  df[\"jam_int\"] = pd.to_datetime(df[\"jam\"], errors=\"coerce\").dt.hour\n"
          ]
        },
        {
          "output_type": "execute_result",
          "data": {
            "text/plain": [
              "<Axes: title={'center': 'Probabilitas Strike per Jam'}, xlabel='jam_int'>"
            ]
          },
          "metadata": {},
          "execution_count": 25
        },
        {
          "output_type": "display_data",
          "data": {
            "text/plain": [
              "<Figure size 640x480 with 1 Axes>"
            ],
            "image/png": "[encoded data removed]"
          },
          "metadata": {}
        }
      ]
    },
    {
      "cell_type": "markdown",
      "source": [
        "# Menghitung peluang"
      ],
      "metadata": {
        "id": "fE6tq8uY0tEV"
      }
    },
    {
      "cell_type": "markdown",
      "source": [
        "![Screenshot 2025-08-20 115340.png](data:image/png;base64,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)"
      ],
      "metadata": {
        "id": "IUqUqYHz04hE"
      }
    },
    {
      "cell_type": "code",
      "source": [
        "# PELUANG PER TAHUN 2025 DATA JUANDA PER 22 JULI\n",
        "# Probabilitas birdstrike per titik\n",
        "prob_strike = df.groupby(\"titik\")[\"strike\"].mean()\n",
        "\n",
        "# Jumlah strike per titik\n",
        "count_strike = df.groupby(\"titik\")[\"strike\"].sum()\n",
        "\n",
        "# Gabungkan jadi 1 tabel\n",
        "result = pd.DataFrame({\n",
        "    \"Probabilitas Strike\": prob_strike,\n",
        "    \"Jumlah Strike\": count_strike,\n",
        "    \"Total Observasi\": df.groupby(\"titik\")[\"strike\"].count()\n",
        "}).reset_index()\n",
        "\n",
        "print(result)"
      ],
      "metadata": {
        "colab": {
          "base_uri": "https://localhost:8080/"
        },
        "id": "Z3dpthrSzbmX",
        "outputId": "ee76e4da-1d48-490e-ba78-7b875f9a9f66"
      },
      "execution_count": null,
      "outputs": [
        {
          "output_type": "stream",
          "name": "stdout",
          "text": [
            "   titik  Probabilitas Strike  Jumlah Strike  Total Observasi\n",
            "0      1             0.000868              7             8061\n",
            "1      2             0.001261             10             7932\n",
            "2      3             0.000637              5             7847\n",
            "3      4             0.000753              6             7973\n",
            "4      5             0.001129              9             7970\n",
            "5      6             0.000828              3             3623\n",
            "6      7             0.001743              6             3442\n",
            "7      8             0.000499              3             6011\n"
          ]
        }
      ]
    },
    {
      "cell_type": "code",
      "source": [
        "import matplotlib.pyplot as plt\n",
        "\n",
        "plt.figure(figsize=(8,5))\n",
        "prob_strike.plot(kind=\"bar\", color=\"orange\", alpha=0.7)\n",
        "plt.title(\"Probabilitas Birdstrike per Titik Lokasi\")\n",
        "plt.ylabel(\"Probabilitas\")\n",
        "plt.xlabel(\"Titik Lokasi\")\n",
        "plt.xticks(rotation=0)\n",
        "plt.show()"
      ],
      "metadata": {
        "colab": {
          "base_uri": "https://localhost:8080/",
          "height": 487
        },
        "id": "0TTGvv9Jzbi7",
        "outputId": "149b58e2-ef31-4a94-f7a5-449f38a27472"
      },
      "execution_count": null,
      "outputs": [
        {
          "output_type": "display_data",
          "data": {
            "text/plain": [
              "<Figure size 800x500 with 1 Axes>"
            ],
            "image/png": "[encoded data removed]"
          },
          "metadata": {}
        }
      ]
    },
    {
      "cell_type": "markdown",
      "source": [
        "# Prediksi Sederhana\n",
        "- Batasan: phasenya selain landing/takeoff dihilangkan. Dan yang laporan hazard dihilangkan."
      ],
      "metadata": {
        "id": "Us72UyI55s7T"
      }
    },
    {
      "cell_type": "code",
      "source": [
        "# Mengimpor library yang diperlukan\n",
        "from sklearn.model_selection import train_test_split\n",
        "from sklearn.linear_model import LogisticRegression\n",
        "from sklearn.metrics import classification_report\n",
        "\n",
        "# Fitur yang dipakai (misalnya titik, jam, cuaca, jumlah burung, fase)\n",
        "X = df[[\"titik\", \"jumlah burung pada titik x\", \"bulan\", \"jam_int\"]]\n",
        "y = df[\"strike\"]\n",
        "\n",
        "# One-hot encoding untuk fitur kategorikal\n",
        "X = pd.get_dummies(X, columns=[\"titik\", \"bulan\"])\n",
        "\n",
        "# Train-test split\n",
        "X_train, X_test, y_train, y_test = train_test_split(X, y, test_size=0.2, random_state=42)\n",
        "\n",
        "# Model Logistic Regression\n",
        "model = LogisticRegression(max_iter=1000)\n",
        "model.fit(X_train, y_train)\n",
        "\n",
        "# Evaluasi\n",
        "y_pred = model.predict(X_test)\n",
        "print(classification_report(y_test, y_pred))\n",
        "\n",
        "# Probabilitas strike (bisa untuk dashboard prediksi)\n",
        "y_proba = model.predict_proba(X_test)[:,1]"
      ],
      "metadata": {
        "colab": {
          "base_uri": "https://localhost:8080/"
        },
        "id": "CA9yhBFGzbYc",
        "outputId": "ef7d3b0e-f1b8-47ea-def6-7ed8baa6fc39"
      },
      "execution_count": null,
      "outputs": [
        {
          "output_type": "stream",
          "name": "stdout",
          "text": [
            "              precision    recall  f1-score   support\n",
            "\n",
            "           0       1.00      1.00      1.00     10564\n",
            "           1       0.00      0.00      0.00         8\n",
            "\n",
            "    accuracy                           1.00     10572\n",
            "   macro avg       0.50      0.50      0.50     10572\n",
            "weighted avg       1.00      1.00      1.00     10572\n",
            "\n"
          ]
        },
        {
          "output_type": "stream",
          "name": "stderr",
          "text": [
            "/usr/local/lib/python3.12/dist-packages/sklearn/metrics/_classification.py:1565: UndefinedMetricWarning: Precision is ill-defined and being set to 0.0 in labels with no predicted samples. Use `zero_division` parameter to control this behavior.\n",
            "  _warn_prf(average, modifier, f\"{metric.capitalize()} is\", len(result))\n",
            "/usr/local/lib/python3.12/dist-packages/sklearn/metrics/_classification.py:1565: UndefinedMetricWarning: Precision is ill-defined and being set to 0.0 in labels with no predicted samples. Use `zero_division` parameter to control this behavior.\n",
            "  _warn_prf(average, modifier, f\"{metric.capitalize()} is\", len(result))\n",
            "/usr/local/lib/python3.12/dist-packages/sklearn/metrics/_classification.py:1565: UndefinedMetricWarning: Precision is ill-defined and being set to 0.0 in labels with no predicted samples. Use `zero_division` parameter to control this behavior.\n",
            "  _warn_prf(average, modifier, f\"{metric.capitalize()} is\", len(result))\n"
          ]
        }
      ]
    },
    {
      "cell_type": "code",
      "source": [
        "from sklearn.metrics import confusion_matrix, ConfusionMatrixDisplay\n",
        "\n",
        "cm = confusion_matrix(y_test, y_pred)\n",
        "disp = ConfusionMatrixDisplay(confusion_matrix=cm)\n",
        "disp.plot()"
      ],
      "metadata": {
        "colab": {
          "base_uri": "https://localhost:8080/",
          "height": 466
        },
        "id": "pGO3-UDfzbG2",
        "outputId": "4ddd2441-e321-4fa1-9363-fe3976ff60eb"
      },
      "execution_count": null,
      "outputs": [
        {
          "output_type": "execute_result",
          "data": {
            "text/plain": [
              "<sklearn.metrics._plot.confusion_matrix.ConfusionMatrixDisplay at 0x7c29d47e8aa0>"
            ]
          },
          "metadata": {},
          "execution_count": 29
        },
        {
          "output_type": "display_data",
          "data": {
            "text/plain": [
              "<Figure size 640x480 with 2 Axes>"
            ],
            "image/png": "[encoded data removed]"
          },
          "metadata": {}
        }
      ]
    },
    {
      "cell_type": "code",
      "source": [
        "from sklearn.metrics import accuracy_score\n",
        "print(\"Accuracy:\", accuracy_score(y_test, y_pred))"
      ],
      "metadata": {
        "colab": {
          "base_uri": "https://localhost:8080/"
        },
        "id": "OjDlmCk4vRgq",
        "outputId": "5f16fa84-621a-4c52-97de-569899e2770d"
      },
      "execution_count": null,
      "outputs": [
        {
          "output_type": "stream",
          "name": "stdout",
          "text": [
            "Accuracy: 0.9992432841468029\n"
          ]
        }
      ]
    },
    {
      "cell_type": "code",
      "source": [
        "from sklearn.metrics import classification_report\n",
        "print(classification_report(y_test, y_pred))"
      ],
      "metadata": {
        "colab": {
          "base_uri": "https://localhost:8080/"
        },
        "id": "3h-YmP3269DF",
        "outputId": "ad95c1a4-f71d-4af0-87c7-bcb75825e513"
      },
      "execution_count": null,
      "outputs": [
        {
          "output_type": "stream",
          "name": "stdout",
          "text": [
            "              precision    recall  f1-score   support\n",
            "\n",
            "           0       1.00      1.00      1.00     10564\n",
            "           1       0.00      0.00      0.00         8\n",
            "\n",
            "    accuracy                           1.00     10572\n",
            "   macro avg       0.50      0.50      0.50     10572\n",
            "weighted avg       1.00      1.00      1.00     10572\n",
            "\n"
          ]
        },
        {
          "output_type": "stream",
          "name": "stderr",
          "text": [
            "/usr/local/lib/python3.12/dist-packages/sklearn/metrics/_classification.py:1565: UndefinedMetricWarning: Precision is ill-defined and being set to 0.0 in labels with no predicted samples. Use `zero_division` parameter to control this behavior.\n",
            "  _warn_prf(average, modifier, f\"{metric.capitalize()} is\", len(result))\n",
            "/usr/local/lib/python3.12/dist-packages/sklearn/metrics/_classification.py:1565: UndefinedMetricWarning: Precision is ill-defined and being set to 0.0 in labels with no predicted samples. Use `zero_division` parameter to control this behavior.\n",
            "  _warn_prf(average, modifier, f\"{metric.capitalize()} is\", len(result))\n",
            "/usr/local/lib/python3.12/dist-packages/sklearn/metrics/_classification.py:1565: UndefinedMetricWarning: Precision is ill-defined and being set to 0.0 in labels with no predicted samples. Use `zero_division` parameter to control this behavior.\n",
            "  _warn_prf(average, modifier, f\"{metric.capitalize()} is\", len(result))\n"
          ]
        }
      ]
    },
    {
      "cell_type": "code",
      "source": [
        "from sklearn.metrics import roc_auc_score, roc_curve\n",
        "import matplotlib.pyplot as plt\n",
        "\n",
        "y_proba = model.predict_proba(X_test)[:,1]\n",
        "print(\"ROC-AUC:\", roc_auc_score(y_test, y_proba))\n",
        "\n",
        "# Plot ROC Curve\n",
        "fpr, tpr, _ = roc_curve(y_test, y_proba)\n",
        "plt.plot(fpr, tpr, label=\"ROC Curve\")\n",
        "plt.plot([0,1], [0,1], linestyle=\"--\", color=\"gray\")\n",
        "plt.xlabel(\"False Positive Rate\")\n",
        "plt.ylabel(\"True Positive Rate\")\n",
        "plt.legend()\n",
        "plt.show()"
      ],
      "metadata": {
        "colab": {
          "base_uri": "https://localhost:8080/",
          "height": 466
        },
        "id": "-lNv42h67Arx",
        "outputId": "1b785d68-cf0c-4cee-c084-0cf7b0e78842"
      },
      "execution_count": null,
      "outputs": [
        {
          "output_type": "stream",
          "name": "stdout",
          "text": [
            "ROC-AUC: 0.526836425596365\n"
          ]
        },
        {
          "output_type": "display_data",
          "data": {
            "text/plain": [
              "<Figure size 640x480 with 1 Axes>"
            ],
            "image/png": "[encoded data removed]"
          },
          "metadata": {}
        }
      ]
    },
    {
      "cell_type": "markdown",
      "source": [
        "# Ada Imbalance pada label data"
      ],
      "metadata": {
        "id": "9FP9rM2j7WV9"
      }
    },
    {
      "cell_type": "code",
      "source": [
        "import matplotlib.pyplot as plt\n",
        "\n",
        "# Hitung distribusi kelas\n",
        "strike_counts = df[\"strike\"].value_counts()\n",
        "strike_ratio = df[\"strike\"].value_counts(normalize=True)\n",
        "\n",
        "print(\"Jumlah masing-masing kelas:\")\n",
        "print(strike_counts)\n",
        "print(\"\\nProporsi masing-masing kelas:\")\n",
        "print(strike_ratio)\n",
        "\n",
        "# Visualisasi\n",
        "plt.figure(figsize=(5,4))\n",
        "strike_counts.plot(kind=\"bar\", color=[\"skyblue\", \"orange\"])\n",
        "plt.xticks([0,1], [\"No Strike (0)\", \"Strike (1)\"], rotation=0)\n",
        "plt.title(\"Distribusi Kelas Strike\")\n",
        "plt.ylabel(\"Jumlah Observasi\")\n",
        "plt.show()"
      ],
      "metadata": {
        "colab": {
          "base_uri": "https://localhost:8080/",
          "height": 601
        },
        "id": "ZXaSmB_d7EkQ",
        "outputId": "44785e05-b794-44ec-ccef-3c521842cdbf"
      },
      "execution_count": null,
      "outputs": [
        {
          "output_type": "stream",
          "name": "stdout",
          "text": [
            "Jumlah masing-masing kelas:\n",
            "strike\n",
            "0    52810\n",
            "1       49\n",
            "Name: count, dtype: int64\n",
            "\n",
            "Proporsi masing-masing kelas:\n",
            "strike\n",
            "0    0.999073\n",
            "1    0.000927\n",
            "Name: proportion, dtype: float64\n"
          ]
        },
        {
          "output_type": "display_data",
          "data": {
            "text/plain": [
              "<Figure size 500x400 with 1 Axes>"
            ],
            "image/png": "[encoded data removed]"
          },
          "metadata": {}
        }
      ]
    },
    {
      "cell_type": "markdown",
      "source": [
        "# Metode untuk mengatasi imbalance"
      ],
      "metadata": {
        "id": "YulD0QUG9Rw8"
      }
    },
    {
      "cell_type": "code",
      "source": [
        "df.head()"
      ],
      "metadata": {
        "colab": {
          "base_uri": "https://localhost:8080/",
          "height": 206
        },
        "id": "MQ-bnp8z9Va5",
        "outputId": "4ee65965-2143-4c6d-92f3-2e9e311d0fcc"
      },
      "execution_count": null,
      "outputs": [
        {
          "output_type": "execute_result",
          "data": {
            "text/plain": [
              "   tahun  tanggal  bulan       jam  waktu    cuaca  \\\n",
              "0   2025        1      1   6:33 PM  Malam    Hujan   \n",
              "1   2025        6      1   6:17 PM  Malam  Mendung   \n",
              "2   2025        9      2   4:10 PM   Sore  Mendung   \n",
              "3   2025       21      2  10:18 AM  Siang    Hujan   \n",
              "4   2025       25      2  12:55 PM  Siang    Hujan   \n",
              "\n",
              "   jumlah burung pada titik x  titik      fase  strike tanggal_fix  jam_int  \n",
              "0                   88.142857      2   Landing       1  2025-01-01       18  \n",
              "1                   52.666667      1   Landing       1  2025-01-06       18  \n",
              "2                   52.666667      1   Landing       1  2025-02-09       16  \n",
              "3                   95.571429      5  Take Off       1  2025-02-21       10  \n",
              "4                   88.142857      2   Landing       1  2025-02-25       12  "
            ],
            "text/html": [
              "\n",
              "  <div id=\"df-5ef43e9c-7641-4df6-b17c-d42284f75088\" class=\"colab-df-container\">\n",
              "    <div>\n",
              "<style scoped>\n",
              "    .dataframe tbody tr th:only-of-type {\n",
              "        vertical-align: middle;\n",
              "    }\n",
              "\n",
              "    .dataframe tbody tr th {\n",
              "        vertical-align: top;\n",
              "    }\n",
              "\n",
              "    .dataframe thead th {\n",
              "        text-align: right;\n",
              "    }\n",
              "</style>\n",
              "<table border=\"1\" class=\"dataframe\">\n",
              "  <thead>\n",
              "    <tr style=\"text-align: right;\">\n",
              "      <th></th>\n",
              "      <th>tahun</th>\n",
              "      <th>tanggal</th>\n",
              "      <th>bulan</th>\n",
              "      <th>jam</th>\n",
              "      <th>waktu</th>\n",
              "      <th>cuaca</th>\n",
              "      <th>jumlah burung pada titik x</th>\n",
              "      <th>titik</th>\n",
              "      <th>fase</th>\n",
              "      <th>strike</th>\n",
              "      <th>tanggal_fix</th>\n",
              "      <th>jam_int</th>\n",
              "    </tr>\n",
              "  </thead>\n",
              "  <tbody>\n",
              "    <tr>\n",
              "      <th>0</th>\n",
              "      <td>2025</td>\n",
              "      <td>1</td>\n",
              "      <td>1</td>\n",
              "      <td>6:33 PM</td>\n",
              "      <td>Malam</td>\n",
              "      <td>Hujan</td>\n",
              "      <td>88.142857</td>\n",
              "      <td>2</td>\n",
              "      <td>Landing</td>\n",
              "      <td>1</td>\n",
              "      <td>2025-01-01</td>\n",
              "      <td>18</td>\n",
              "    </tr>\n",
              "    <tr>\n",
              "      <th>1</th>\n",
              "      <td>2025</td>\n",
              "      <td>6</td>\n",
              "      <td>1</td>\n",
              "      <td>6:17 PM</td>\n",
              "      <td>Malam</td>\n",
              "      <td>Mendung</td>\n",
              "      <td>52.666667</td>\n",
              "      <td>1</td>\n",
              "      <td>Landing</td>\n",
              "      <td>1</td>\n",
              "      <td>2025-01-06</td>\n",
              "      <td>18</td>\n",
              "    </tr>\n",
              "    <tr>\n",
              "      <th>2</th>\n",
              "      <td>2025</td>\n",
              "      <td>9</td>\n",
              "      <td>2</td>\n",
              "      <td>4:10 PM</td>\n",
              "      <td>Sore</td>\n",
              "      <td>Mendung</td>\n",
              "      <td>52.666667</td>\n",
              "      <td>1</td>\n",
              "      <td>Landing</td>\n",
              "      <td>1</td>\n",
              "      <td>2025-02-09</td>\n",
              "      <td>16</td>\n",
              "    </tr>\n",
              "    <tr>\n",
              "      <th>3</th>\n",
              "      <td>2025</td>\n",
              "      <td>21</td>\n",
              "      <td>2</td>\n",
              "      <td>10:18 AM</td>\n",
              "      <td>Siang</td>\n",
              "      <td>Hujan</td>\n",
              "      <td>95.571429</td>\n",
              "      <td>5</td>\n",
              "      <td>Take Off</td>\n",
              "      <td>1</td>\n",
              "      <td>2025-02-21</td>\n",
              "      <td>10</td>\n",
              "    </tr>\n",
              "    <tr>\n",
              "      <th>4</th>\n",
              "      <td>2025</td>\n",
              "      <td>25</td>\n",
              "      <td>2</td>\n",
              "      <td>12:55 PM</td>\n",
              "      <td>Siang</td>\n",
              "      <td>Hujan</td>\n",
              "      <td>88.142857</td>\n",
              "      <td>2</td>\n",
              "      <td>Landing</td>\n",
              "      <td>1</td>\n",
              "      <td>2025-02-25</td>\n",
              "      <td>12</td>\n",
              "    </tr>\n",
              "  </tbody>\n",
              "</table>\n",
              "</div>\n",
              "    <div class=\"colab-df-buttons\">\n",
              "\n",
              "  <div class=\"colab-df-container\">\n",
              "    <button class=\"colab-df-convert\" onclick=\"convertToInteractive('df-5ef43e9c-7641-4df6-b17c-d42284f75088')\"\n",
              "            title=\"Convert this dataframe to an interactive table.\"\n",
              "            style=\"display:none;\">\n",
              "\n",
              "  <svg xmlns=\"http://www.w3.org/2000/svg\" height=\"24px\" viewBox=\"0 -960 960 960\">\n",
              "    <path d=\"M120-120v-720h720v720H120Zm60-500h600v-160H180v160Zm220 220h160v-160H400v160Zm0 220h160v-160H400v160ZM180-400h160v-160H180v160Zm440 0h160v-160H620v160ZM180-180h160v-160H180v160Zm440 0h160v-160H620v160Z\"/>\n",
              "  </svg>\n",
              "    </button>\n",
              "\n",
              "  <style>\n",
              "    .colab-df-container {\n",
              "      display:flex;\n",
              "      gap: 12px;\n",
              "    }\n",
              "\n",
              "    .colab-df-convert {\n",
              "      background-color: #E8F0FE;\n",
              "      border: none;\n",
              "      border-radius: 50%;\n",
              "      cursor: pointer;\n",
              "      display: none;\n",
              "      fill: #1967D2;\n",
              "      height: 32px;\n",
              "      padding: 0 0 0 0;\n",
              "      width: 32px;\n",
              "    }\n",
              "\n",
              "    .colab-df-convert:hover {\n",
              "      background-color: #E2EBFA;\n",
              "      box-shadow: 0px 1px 2px rgba(60, 64, 67, 0.3), 0px 1px 3px 1px rgba(60, 64, 67, 0.15);\n",
              "      fill: #174EA6;\n",
              "    }\n",
              "\n",
              "    .colab-df-buttons div {\n",
              "      margin-bottom: 4px;\n",
              "    }\n",
              "\n",
              "    [theme=dark] .colab-df-convert {\n",
              "      background-color: #3B4455;\n",
              "      fill: #D2E3FC;\n",
              "    }\n",
              "\n",
              "    [theme=dark] .colab-df-convert:hover {\n",
              "      background-color: #434B5C;\n",
              "      box-shadow: 0px 1px 3px 1px rgba(0, 0, 0, 0.15);\n",
              "      filter: drop-shadow(0px 1px 2px rgba(0, 0, 0, 0.3));\n",
              "      fill: #FFFFFF;\n",
              "    }\n",
              "  </style>\n",
              "\n",
              "    <script>\n",
              "      const buttonEl =\n",
              "        document.querySelector('#df-5ef43e9c-7641-4df6-b17c-d42284f75088 button.colab-df-convert');\n",
              "      buttonEl.style.display =\n",
              "        google.colab.kernel.accessAllowed ? 'block' : 'none';\n",
              "\n",
              "      async function convertToInteractive(key) {\n",
              "        const element = document.querySelector('#df-5ef43e9c-7641-4df6-b17c-d42284f75088');\n",
              "        const dataTable =\n",
              "          await google.colab.kernel.invokeFunction('convertToInteractive',\n",
              "                                                    [key], {});\n",
              "        if (!dataTable) return;\n",
              "\n",
              "        const docLinkHtml = 'Like what you see? Visit the ' +\n",
              "          '<a target=\"_blank\" href=https://colab.research.google.com/notebooks/data_table.ipynb>data table notebook</a>'\n",
              "          + ' to learn more about interactive tables.';\n",
              "        element.innerHTML = '';\n",
              "        dataTable['output_type'] = 'display_data';\n",
              "        await google.colab.output.renderOutput(dataTable, element);\n",
              "        const docLink = document.createElement('div');\n",
              "        docLink.innerHTML = docLinkHtml;\n",
              "        element.appendChild(docLink);\n",
              "      }\n",
              "    </script>\n",
              "  </div>\n",
              "\n",
              "\n",
              "    <div id=\"df-acec22ed-7eb1-4357-8505-91f328f8880c\">\n",
              "      <button class=\"colab-df-quickchart\" onclick=\"quickchart('df-acec22ed-7eb1-4357-8505-91f328f8880c')\"\n",
              "                title=\"Suggest charts\"\n",
              "                style=\"display:none;\">\n",
              "\n",
              "<svg xmlns=\"http://www.w3.org/2000/svg\" height=\"24px\"viewBox=\"0 0 24 24\"\n",
              "     width=\"24px\">\n",
              "    <g>\n",
              "        <path d=\"M19 3H5c-1.1 0-2 .9-2 2v14c0 1.1.9 2 2 2h14c1.1 0 2-.9 2-2V5c0-1.1-.9-2-2-2zM9 17H7v-7h2v7zm4 0h-2V7h2v10zm4 0h-2v-4h2v4z\"/>\n",
              "    </g>\n",
              "</svg>\n",
              "      </button>\n",
              "\n",
              "<style>\n",
              "  .colab-df-quickchart {\n",
              "      --bg-color: #E8F0FE;\n",
              "      --fill-color: #1967D2;\n",
              "      --hover-bg-color: #E2EBFA;\n",
              "      --hover-fill-color: #174EA6;\n",
              "      --disabled-fill-color: #AAA;\n",
              "      --disabled-bg-color: #DDD;\n",
              "  }\n",
              "\n",
              "  [theme=dark] .colab-df-quickchart {\n",
              "      --bg-color: #3B4455;\n",
              "      --fill-color: #D2E3FC;\n",
              "      --hover-bg-color: #434B5C;\n",
              "      --hover-fill-color: #FFFFFF;\n",
              "      --disabled-bg-color: #3B4455;\n",
              "      --disabled-fill-color: #666;\n",
              "  }\n",
              "\n",
              "  .colab-df-quickchart {\n",
              "    background-color: var(--bg-color);\n",
              "    border: none;\n",
              "    border-radius: 50%;\n",
              "    cursor: pointer;\n",
              "    display: none;\n",
              "    fill: var(--fill-color);\n",
              "    height: 32px;\n",
              "    padding: 0;\n",
              "    width: 32px;\n",
              "  }\n",
              "\n",
              "  .colab-df-quickchart:hover {\n",
              "    background-color: var(--hover-bg-color);\n",
              "    box-shadow: 0 1px 2px rgba(60, 64, 67, 0.3), 0 1px 3px 1px rgba(60, 64, 67, 0.15);\n",
              "    fill: var(--button-hover-fill-color);\n",
              "  }\n",
              "\n",
              "  .colab-df-quickchart-complete:disabled,\n",
              "  .colab-df-quickchart-complete:disabled:hover {\n",
              "    background-color: var(--disabled-bg-color);\n",
              "    fill: var(--disabled-fill-color);\n",
              "    box-shadow: none;\n",
              "  }\n",
              "\n",
              "  .colab-df-spinner {\n",
              "    border: 2px solid var(--fill-color);\n",
              "    border-color: transparent;\n",
              "    border-bottom-color: var(--fill-color);\n",
              "    animation:\n",
              "      spin 1s steps(1) infinite;\n",
              "  }\n",
              "\n",
              "  @keyframes spin {\n",
              "    0% {\n",
              "      border-color: transparent;\n",
              "      border-bottom-color: var(--fill-color);\n",
              "      border-left-color: var(--fill-color);\n",
              "    }\n",
              "    20% {\n",
              "      border-color: transparent;\n",
              "      border-left-color: var(--fill-color);\n",
              "      border-top-color: var(--fill-color);\n",
              "    }\n",
              "    30% {\n",
              "      border-color: transparent;\n",
              "      border-left-color: var(--fill-color);\n",
              "      border-top-color: var(--fill-color);\n",
              "      border-right-color: var(--fill-color);\n",
              "    }\n",
              "    40% {\n",
              "      border-color: transparent;\n",
              "      border-right-color: var(--fill-color);\n",
              "      border-top-color: var(--fill-color);\n",
              "    }\n",
              "    60% {\n",
              "      border-color: transparent;\n",
              "      border-right-color: var(--fill-color);\n",
              "    }\n",
              "    80% {\n",
              "      border-color: transparent;\n",
              "      border-right-color: var(--fill-color);\n",
              "      border-bottom-color: var(--fill-color);\n",
              "    }\n",
              "    90% {\n",
              "      border-color: transparent;\n",
              "      border-bottom-color: var(--fill-color);\n",
              "    }\n",
              "  }\n",
              "</style>\n",
              "\n",
              "      <script>\n",
              "        async function quickchart(key) {\n",
              "          const quickchartButtonEl =\n",
              "            document.querySelector('#' + key + ' button');\n",
              "          quickchartButtonEl.disabled = true;  // To prevent multiple clicks.\n",
              "          quickchartButtonEl.classList.add('colab-df-spinner');\n",
              "          try {\n",
              "            const charts = await google.colab.kernel.invokeFunction(\n",
              "                'suggestCharts', [key], {});\n",
              "          } catch (error) {\n",
              "            console.error('Error during call to suggestCharts:', error);\n",
              "          }\n",
              "          quickchartButtonEl.classList.remove('colab-df-spinner');\n",
              "          quickchartButtonEl.classList.add('colab-df-quickchart-complete');\n",
              "        }\n",
              "        (() => {\n",
              "          let quickchartButtonEl =\n",
              "            document.querySelector('#df-acec22ed-7eb1-4357-8505-91f328f8880c button');\n",
              "          quickchartButtonEl.style.display =\n",
              "            google.colab.kernel.accessAllowed ? 'block' : 'none';\n",
              "        })();\n",
              "      </script>\n",
              "    </div>\n",
              "\n",
              "    </div>\n",
              "  </div>\n"
            ],
            "application/vnd.google.colaboratory.intrinsic+json": {
              "type": "dataframe",
              "variable_name": "df",
              "summary": "{\n  \"name\": \"df\",\n  \"rows\": 52859,\n  \"fields\": [\n    {\n      \"column\": \"tahun\",\n      \"properties\": {\n        \"dtype\": \"number\",\n        \"std\": 0,\n        \"min\": 2025,\n        \"max\": 2025,\n        \"num_unique_values\": 1,\n        \"samples\": [\n          2025\n        ],\n        \"semantic_type\": \"\",\n        \"description\": \"\"\n      }\n    },\n    {\n      \"column\": \"tanggal\",\n      \"properties\": {\n        \"dtype\": \"number\",\n        \"std\": 8,\n        \"min\": 1,\n        \"max\": 31,\n        \"num_unique_values\": 31,\n        \"samples\": [\n          5\n        ],\n        \"semantic_type\": \"\",\n        \"description\": \"\"\n      }\n    },\n    {\n      \"column\": \"bulan\",\n      \"properties\": {\n        \"dtype\": \"number\",\n        \"std\": 2,\n        \"min\": 1,\n        \"max\": 7,\n        \"num_unique_values\": 7,\n        \"samples\": [\n          1\n        ],\n        \"semantic_type\": \"\",\n        \"description\": \"\"\n      }\n    },\n    {\n      \"column\": \"jam\",\n      \"properties\": {\n        \"dtype\": \"object\",\n        \"num_unique_values\": 1253,\n        \"samples\": [\n          \"12:23 PM\"\n        ],\n        \"semantic_type\": \"\",\n        \"description\": \"\"\n      }\n    },\n    {\n      \"column\": \"waktu\",\n      \"properties\": {\n        \"dtype\": \"category\",\n        \"num_unique_values\": 6,\n        \"samples\": [\n          \"Malam\"\n        ],\n        \"semantic_type\": \"\",\n        \"description\": \"\"\n      }\n    },\n    {\n      \"column\": \"cuaca\",\n      \"properties\": {\n        \"dtype\": \"category\",\n        \"num_unique_values\": 4,\n        \"samples\": [\n          \"Mendung\"\n        ],\n        \"semantic_type\": \"\",\n        \"description\": \"\"\n      }\n    },\n    {\n      \"column\": \"jumlah burung pada titik x\",\n      \"properties\": {\n        \"dtype\": \"number\",\n        \"std\": 24.6085777195523,\n        \"min\": 12.0,\n        \"max\": 95.57142857,\n        \"num_unique_values\": 8,\n        \"samples\": [\n          52.6666667\n        ],\n        \"semantic_type\": \"\",\n        \"description\": \"\"\n      }\n    },\n    {\n      \"column\": \"titik\",\n      \"properties\": {\n        \"dtype\": \"number\",\n        \"std\": 2,\n        \"min\": 1,\n        \"max\": 8,\n        \"num_unique_values\": 8,\n        \"samples\": [\n          1\n        ],\n        \"semantic_type\": \"\",\n        \"description\": \"\"\n      }\n    },\n    {\n      \"column\": \"fase\",\n      \"properties\": {\n        \"dtype\": \"category\",\n        \"num_unique_values\": 2,\n        \"samples\": [\n          \"Take Off\"\n        ],\n        \"semantic_type\": \"\",\n        \"description\": \"\"\n      }\n    },\n    {\n      \"column\": \"strike\",\n      \"properties\": {\n        \"dtype\": \"number\",\n        \"std\": 0,\n        \"min\": 0,\n        \"max\": 1,\n        \"num_unique_values\": 2,\n        \"samples\": [\n          0\n        ],\n        \"semantic_type\": \"\",\n        \"description\": \"\"\n      }\n    },\n    {\n      \"column\": \"tanggal_fix\",\n      \"properties\": {\n        \"dtype\": \"date\",\n        \"min\": \"2025-01-01 00:00:00\",\n        \"max\": \"2025-07-31 00:00:00\",\n        \"num_unique_values\": 212,\n        \"samples\": [\n          \"2025-06-08 00:00:00\"\n        ],\n        \"semantic_type\": \"\",\n        \"description\": \"\"\n      }\n    },\n    {\n      \"column\": \"jam_int\",\n      \"properties\": {\n        \"dtype\": \"int32\",\n        \"num_unique_values\": 24,\n        \"samples\": [\n          5\n        ],\n        \"semantic_type\": \"\",\n        \"description\": \"\"\n      }\n    }\n  ]\n}"
            }
          },
          "metadata": {},
          "execution_count": 34
        }
      ]
    },
    {
      "cell_type": "code",
      "source": [
        "import pandas as pd\n",
        "import matplotlib.pyplot as plt\n",
        "import seaborn as sns\n",
        "from sklearn.model_selection import train_test_split\n",
        "from sklearn.ensemble import RandomForestClassifier\n",
        "from sklearn.metrics import (\n",
        "    classification_report,\n",
        "    confusion_matrix,\n",
        "    roc_curve,\n",
        "    auc,\n",
        "    precision_recall_curve,\n",
        "    average_precision_score\n",
        ")\n",
        "\n",
        "# --- 1. Preprocessing ---\n",
        "df_model = df.copy()\n",
        "\n",
        "# Ekstrak fitur dari datetime\n",
        "df_model[\"dayofweek\"] = df_model[\"tanggal_fix\"].dt.dayofweek\n",
        "df_model[\"is_weekend\"] = df_model[\"dayofweek\"].isin([5,6]).astype(int)\n",
        "df_model[\"hour\"] = pd.to_datetime(df_model[\"jam\"], errors=\"coerce\").dt.hour\n",
        "\n",
        "# Drop kolom yang redundant\n",
        "X = df_model.drop(columns=[\"strike\", \"tanggal_fix\", \"jam\", \"tahun\", \"tanggal\", \"bulan\"])\n",
        "y = df_model[\"strike\"]\n",
        "\n",
        "# One-hot encoding untuk kategorikal\n",
        "X = pd.get_dummies(X, columns=[\"waktu\", \"cuaca\", \"fase\"], drop_first=True)\n",
        "\n",
        "# --- 2. Train-test split ---\n",
        "X_train, X_test, y_train, y_test = train_test_split(\n",
        "    X, y, test_size=0.2, stratify=y, random_state=42\n",
        ")\n",
        "\n",
        "# --- 3. Model training ---\n",
        "model = RandomForestClassifier(\n",
        "    n_estimators=200,\n",
        "    random_state=42,\n",
        "    class_weight=\"balanced_subsample\",\n",
        "    n_jobs=-1\n",
        ")\n",
        "model.fit(X_train, y_train)\n",
        "\n",
        "# --- 4. Evaluasi dasar ---\n",
        "y_pred = model.predict(X_test)\n",
        "y_proba = model.predict_proba(X_test)[:, 1]  # probabilitas kelas 1\n",
        "\n",
        "print(\"=== Classification Report ===\")\n",
        "print(classification_report(y_test, y_pred, digits=4))\n",
        "\n",
        "print(\"\\n=== Confusion Matrix ===\")\n",
        "cm = confusion_matrix(y_test, y_pred)\n",
        "sns.heatmap(cm, annot=True, fmt=\"d\", cmap=\"Blues\", xticklabels=[0,1], yticklabels=[0,1])\n",
        "plt.xlabel(\"Predicted\")\n",
        "plt.ylabel(\"Actual\")\n",
        "plt.title(\"Confusion Matrix\")\n",
        "plt.show()\n",
        "\n",
        "# --- 5. ROC Curve & AUC ---\n",
        "fpr, tpr, _ = roc_curve(y_test, y_proba)\n",
        "roc_auc = auc(fpr, tpr)\n",
        "\n",
        "plt.figure(figsize=(6,6))\n",
        "plt.plot(fpr, tpr, color=\"blue\", label=f\"ROC Curve (AUC = {roc_auc:.4f})\")\n",
        "plt.plot([0,1], [0,1], color=\"red\", linestyle=\"--\")\n",
        "plt.xlabel(\"False Positive Rate\")\n",
        "plt.ylabel(\"True Positive Rate\")\n",
        "plt.title(\"ROC Curve\")\n",
        "plt.legend(loc=\"lower right\")\n",
        "plt.show()\n",
        "\n",
        "# --- 6. Precision-Recall Curve ---\n",
        "precision, recall, _ = precision_recall_curve(y_test, y_proba)\n",
        "avg_prec = average_precision_score(y_test, y_proba)\n",
        "\n",
        "plt.figure(figsize=(6,6))\n",
        "plt.plot(recall, precision, color=\"green\", label=f\"AP = {avg_prec:.4f}\")\n",
        "plt.xlabel(\"Recall\")\n",
        "plt.ylabel(\"Precision\")\n",
        "plt.title(\"Precision-Recall Curve\")\n",
        "plt.legend(loc=\"upper right\")\n",
        "plt.show()\n",
        "\n",
        "# --- 7. Feature Importance ---\n",
        "importances = model.feature_importances_\n",
        "feat_names = X.columns\n",
        "feat_importance = pd.DataFrame({\"feature\": feat_names, \"importance\": importances})\n",
        "feat_importance = feat_importance.sort_values(by=\"importance\", ascending=False)\n",
        "\n",
        "plt.figure(figsize=(10,6))\n",
        "sns.barplot(x=\"importance\", y=\"feature\", data=feat_importance.head(15))\n",
        "plt.title(\"Top 15 Feature Importance (Random Forest)\")\n",
        "plt.show()"
      ],
      "metadata": {
        "colab": {
          "base_uri": "https://localhost:8080/",
          "height": 1000
        },
        "id": "FhOIs6oBH7Iy",
        "outputId": "6cf09a4a-5ed0-4051-fd8f-972767a37cfb"
      },
      "execution_count": null,
      "outputs": [
        {
          "output_type": "stream",
          "name": "stderr",
          "text": [
            "/tmp/ipython-input-2818558839.py:21: UserWarning: Could not infer format, so each element will be parsed individually, falling back to `dateutil`. To ensure parsing is consistent and as-expected, please specify a format.\n",
            "  df_model[\"hour\"] = pd.to_datetime(df_model[\"jam\"], errors=\"coerce\").dt.hour\n"
          ]
        },
        {
          "output_type": "stream",
          "name": "stdout",
          "text": [
            "=== Classification Report ===\n",
            "              precision    recall  f1-score   support\n",
            "\n",
            "           0     0.9990    0.9920    0.9955     10562\n",
            "           1     0.0000    0.0000    0.0000        10\n",
            "\n",
            "    accuracy                         0.9910     10572\n",
            "   macro avg     0.4995    0.4960    0.4977     10572\n",
            "weighted avg     0.9981    0.9910    0.9945     10572\n",
            "\n",
            "\n",
            "=== Confusion Matrix ===\n"
          ]
        },
        {
          "output_type": "display_data",
          "data": {
            "text/plain": [
              "<Figure size 640x480 with 2 Axes>"
            ],
            "image/png": "[encoded data removed]"
          },
          "metadata": {}
        },
        {
          "output_type": "display_data",
          "data": {
            "text/plain": [
              "<Figure size 600x600 with 1 Axes>"
            ],
            "image/png": "[encoded data removed]"
          },
          "metadata": {}
        },
        {
          "output_type": "display_data",
          "data": {
            "text/plain": [
              "<Figure size 600x600 with 1 Axes>"
            ],
            "image/png": "[encoded data removed]"
          },
          "metadata": {}
        },
        {
          "output_type": "display_data",
          "data": {
            "text/plain": [
              "<Figure size 1000x600 with 1 Axes>"
            ],
            "image/png": "[encoded data removed]"
          },
          "metadata": {}
        }
      ]
    },
    {
      "cell_type": "code",
      "source": [
        "# Versi ada errornya\n",
        "import pandas as pd\n",
        "import numpy as np\n",
        "from sklearn.model_selection import train_test_split\n",
        "from sklearn.ensemble import RandomForestClassifier\n",
        "from sklearn.metrics import classification_report, confusion_matrix, ConfusionMatrixDisplay\n",
        "import matplotlib.pyplot as plt\n",
        "\n",
        "# ========================\n",
        "# 1. PREPROCESSING\n",
        "# ========================\n",
        "df_model = df.copy()\n",
        "\n",
        "# Ekstrak informasi waktu\n",
        "df_model[\"dayofweek\"] = df_model[\"tanggal_fix\"].dt.dayofweek   # 0=Senin, 6=Minggu\n",
        "df_model[\"is_weekend\"] = df_model[\"dayofweek\"].isin([5,6]).astype(int)\n",
        "df_model[\"hour\"] = pd.to_datetime(df_model[\"jam\"], errors=\"coerce\").dt.hour\n",
        "\n",
        "# Drop kolom redundant\n",
        "X = df_model.drop(columns=[\"strike\", \"tanggal_fix\", \"jam\", \"tahun\", \"tanggal\", \"bulan\"])\n",
        "y = df_model[\"strike\"]\n",
        "\n",
        "# One-hot encoding\n",
        "X = pd.get_dummies(X, columns=[\"waktu\", \"cuaca\", \"fase\"], drop_first=True)\n",
        "\n",
        "# ========================\n",
        "# 2. TRAIN TEST SPLIT\n",
        "# ========================\n",
        "X_train, X_test, y_train, y_test = train_test_split(\n",
        "    X, y, test_size=0.3, stratify=y, random_state=42\n",
        ")\n",
        "\n",
        "# ========================\n",
        "# 3. MODEL TRAINING\n",
        "# ========================\n",
        "model = RandomForestClassifier(\n",
        "    class_weight=\"balanced\", random_state=42, n_estimators=200\n",
        ")\n",
        "model.fit(X_train, y_train)\n",
        "\n",
        "# ========================\n",
        "# 4. PREDICTION\n",
        "# ========================\n",
        "y_pred = model.predict(X_test)\n",
        "\n",
        "# ========================\n",
        "# 5. CONFUSION MATRIX & ERROR\n",
        "# ========================\n",
        "cm = confusion_matrix(y_test, y_pred)\n",
        "TN, FP, FN, TP = cm.ravel()\n",
        "\n",
        "error_rate = (FP + FN) / (TP + TN + FP + FN)\n",
        "fpr = FP / (FP + TN) if (FP + TN) > 0 else 0\n",
        "fnr = FN / (FN + TP) if (FN + TP) > 0 else 0\n",
        "accuracy = (TP + TN) / (TP + TN + FP + FN)\n",
        "\n",
        "print(\"Confusion Matrix:\\n\", cm)\n",
        "print(f\"\\nError Rate     : {error_rate:.6f}\")\n",
        "print(f\"False Positive : {fpr:.6f}\")\n",
        "print(f\"False Negative : {fnr:.6f}\")\n",
        "print(f\"Accuracy       : {accuracy:.6f}\\n\")\n",
        "\n",
        "# Laporan klasifikasi\n",
        "print(classification_report(y_test, y_pred, digits=6))\n",
        "\n",
        "# ========================\n",
        "# 6. VISUALISASI CM\n",
        "# ========================\n",
        "disp = ConfusionMatrixDisplay(confusion_matrix=cm, display_labels=model.classes_)\n",
        "disp.plot(cmap=\"Blues\", values_format=\"d\")\n",
        "plt.title(\"Confusion Matrix - Random Forest\")\n",
        "plt.show()\n",
        "\n",
        "# ========================\n",
        "# 7. FEATURE IMPORTANCE\n",
        "# ========================\n",
        "importances = pd.Series(model.feature_importances_, index=X.columns)\n",
        "importances.sort_values(ascending=False).head(10).plot(kind=\"barh\", figsize=(8,5))\n",
        "plt.title(\"Top 10 Feature Importances\")\n",
        "plt.gca().invert_yaxis()\n",
        "plt.show()\n"
      ],
      "metadata": {
        "colab": {
          "base_uri": "https://localhost:8080/",
          "height": 1000
        },
        "id": "mXJ2Z2_tIn92",
        "outputId": "329bc44f-d4f9-42a5-d38d-bb3b833b65a3"
      },
      "execution_count": null,
      "outputs": [
        {
          "output_type": "stream",
          "name": "stderr",
          "text": [
            "/tmp/ipython-input-2496599623.py:17: UserWarning: Could not infer format, so each element will be parsed individually, falling back to `dateutil`. To ensure parsing is consistent and as-expected, please specify a format.\n",
            "  df_model[\"hour\"] = pd.to_datetime(df_model[\"jam\"], errors=\"coerce\").dt.hour\n"
          ]
        },
        {
          "output_type": "stream",
          "name": "stdout",
          "text": [
            "Confusion Matrix:\n",
            " [[15733   110]\n",
            " [   15     0]]\n",
            "\n",
            "Error Rate     : 0.007882\n",
            "False Positive : 0.006943\n",
            "False Negative : 1.000000\n",
            "Accuracy       : 0.992118\n",
            "\n",
            "              precision    recall  f1-score   support\n",
            "\n",
            "           0   0.999047  0.993057  0.996043     15843\n",
            "           1   0.000000  0.000000  0.000000        15\n",
            "\n",
            "    accuracy                       0.992118     15858\n",
            "   macro avg   0.499524  0.496528  0.498022     15858\n",
            "weighted avg   0.998103  0.992118  0.995101     15858\n",
            "\n"
          ]
        },
        {
          "output_type": "display_data",
          "data": {
            "text/plain": [
              "<Figure size 640x480 with 2 Axes>"
            ],
            "image/png": "[encoded data removed]"
          },
          "metadata": {}
        },
        {
          "output_type": "display_data",
          "data": {
            "text/plain": [
              "<Figure size 800x500 with 1 Axes>"
            ],
            "image/png": "[encoded data removed]"
          },
          "metadata": {}
        }
      ]
    },
    {
      "cell_type": "code",
      "source": [],
      "metadata": {
        "id": "Usq8ozTDJ3fM"
      },
      "execution_count": null,
      "outputs": []
    },
    {
      "cell_type": "code",
      "source": [
        "# ==========================================\n",
        "# 1. Import library\n",
        "# ==========================================\n",
        "import pandas as pd\n",
        "import numpy as np\n",
        "\n",
        "from sklearn.model_selection import train_test_split\n",
        "from sklearn.preprocessing import LabelEncoder\n",
        "from sklearn.metrics import classification_report, confusion_matrix, roc_auc_score\n",
        "\n",
        "from sklearn.linear_model import LogisticRegression\n",
        "from sklearn.tree import DecisionTreeClassifier\n",
        "from sklearn.ensemble import RandomForestClassifier\n",
        "from xgboost import XGBClassifier\n",
        "\n",
        "from imblearn.over_sampling import SMOTE\n",
        "\n",
        "# ==========================================\n",
        "# 2. Preprocessing\n",
        "# ==========================================\n",
        "\n",
        "# Copy dataset\n",
        "df_model = df.copy()\n",
        "\n",
        "# Drop kolom yang tidak dipakai\n",
        "df_model = df_model.drop(columns=[\"tahun\", \"tanggal\", \"bulan\", \"tanggal_fix\"])\n",
        "\n",
        "# Ubah jam ke numeric hour\n",
        "df_model[\"hour\"] = pd.to_datetime(df_model[\"jam\"], errors=\"coerce\").dt.hour\n",
        "df_model = df_model.drop(columns=[\"jam\"])\n",
        "\n",
        "# Encode categorical\n",
        "categorical_cols = [\"waktu\", \"cuaca\", \"fase\", \"titik\"]\n",
        "le = LabelEncoder()\n",
        "for col in categorical_cols:\n",
        "    df_model[col] = le.fit_transform(df_model[col])\n",
        "\n",
        "# Fitur & target\n",
        "X = df_model.drop(columns=[\"strike\"])\n",
        "y = df_model[\"strike\"]\n",
        "\n",
        "# Split data\n",
        "X_train, X_test, y_train, y_test = train_test_split(\n",
        "    X, y, test_size=0.3, random_state=42, stratify=y\n",
        ")\n",
        "\n",
        "# SMOTE untuk imbalance\n",
        "smote = SMOTE(random_state=42)\n",
        "X_train_res, y_train_res = smote.fit_resample(X_train, y_train)\n",
        "\n",
        "print(\"Sebelum SMOTE:\", y_train.value_counts())\n",
        "print(\"Sesudah SMOTE:\", y_train_res.value_counts())\n",
        "\n",
        "# ==========================================\n",
        "# 3. Definisi model\n",
        "# ==========================================\n",
        "models = {\n",
        "    \"Logistic Regression\": LogisticRegression(class_weight=\"balanced\", max_iter=1000),\n",
        "    \"Decision Tree\": DecisionTreeClassifier(class_weight=\"balanced\", random_state=42),\n",
        "    \"Random Forest\": RandomForestClassifier(class_weight=\"balanced\", random_state=42),\n",
        "    \"XGBoost\": XGBClassifier(\n",
        "        scale_pos_weight=(y_train == 0).sum() / (y_train == 1).sum(),\n",
        "        use_label_encoder=False,\n",
        "        eval_metric=\"logloss\",\n",
        "        random_state=42\n",
        "    )\n",
        "}\n",
        "\n",
        "# ==========================================\n",
        "# 4. Training & Evaluasi\n",
        "# ==========================================\n",
        "results = {}\n",
        "\n",
        "for name, model in models.items():\n",
        "    print(f\"\\n===== {name} =====\")\n",
        "    model.fit(X_train_res, y_train_res)\n",
        "    y_pred = model.predict(X_test)\n",
        "    y_prob = model.predict_proba(X_test)[:, 1] if hasattr(model, \"predict_proba\") else None\n",
        "\n",
        "    # Confusion matrix\n",
        "    cm = confusion_matrix(y_test, y_pred)\n",
        "    print(\"Confusion Matrix:\\n\", cm)\n",
        "\n",
        "    # Classification report\n",
        "    print(classification_report(y_test, y_pred, digits=4))\n",
        "\n",
        "    # ROC-AUC\n",
        "    if y_prob is not None:\n",
        "        auc = roc_auc_score(y_test, y_prob)\n",
        "        print(\"ROC-AUC:\", auc)\n",
        "    else:\n",
        "        auc = None\n",
        "\n",
        "    # Simpan hasil\n",
        "    results[name] = {\n",
        "        \"confusion_matrix\": cm,\n",
        "        \"classification_report\": classification_report(y_test, y_pred, output_dict=True),\n",
        "        \"roc_auc\": auc\n",
        "    }\n",
        "\n",
        "# ==========================================\n",
        "# 5. Ringkasan Hasil\n",
        "# ==========================================\n",
        "summary = pd.DataFrame({\n",
        "    model: {\n",
        "        \"Precision (class 1)\": results[model][\"classification_report\"][\"1\"][\"precision\"],\n",
        "        \"Recall (class 1)\": results[model][\"classification_report\"][\"1\"][\"recall\"],\n",
        "        \"F1-score (class 1)\": results[model][\"classification_report\"][\"1\"][\"f1-score\"],\n",
        "        \"ROC-AUC\": results[model][\"roc_auc\"]\n",
        "    }\n",
        "    for model in results\n",
        "}).T\n",
        "\n",
        "print(\"\\n===== RINGKASAN HASIL =====\")\n",
        "print(summary)\n"
      ],
      "metadata": {
        "colab": {
          "base_uri": "https://localhost:8080/"
        },
        "id": "Oagy4XeJ_dqg",
        "outputId": "d09e0ffe-b3a3-40e0-d3f9-308a543a1d6f"
      },
      "execution_count": null,
      "outputs": [
        {
          "output_type": "stream",
          "name": "stderr",
          "text": [
            "/tmp/ipython-input-3170694938.py:29: UserWarning: Could not infer format, so each element will be parsed individually, falling back to `dateutil`. To ensure parsing is consistent and as-expected, please specify a format.\n",
            "  df_model[\"hour\"] = pd.to_datetime(df_model[\"jam\"], errors=\"coerce\").dt.hour\n"
          ]
        },
        {
          "output_type": "stream",
          "name": "stdout",
          "text": [
            "Sebelum SMOTE: strike\n",
            "0    36967\n",
            "1       34\n",
            "Name: count, dtype: int64\n",
            "Sesudah SMOTE: strike\n",
            "0    36967\n",
            "1    36967\n",
            "Name: count, dtype: int64\n",
            "\n",
            "===== Logistic Regression =====\n",
            "Confusion Matrix:\n",
            " [[10454  5389]\n",
            " [    8     7]]\n",
            "              precision    recall  f1-score   support\n",
            "\n",
            "           0     0.9992    0.6598    0.7948     15843\n",
            "           1     0.0013    0.4667    0.0026        15\n",
            "\n",
            "    accuracy                         0.6597     15858\n",
            "   macro avg     0.5003    0.5633    0.3987     15858\n",
            "weighted avg     0.9983    0.6597    0.7941     15858\n",
            "\n",
            "ROC-AUC: 0.5766984367438827\n",
            "\n",
            "===== Decision Tree =====\n",
            "Confusion Matrix:\n",
            " [[15034   809]\n",
            " [   15     0]]\n",
            "              precision    recall  f1-score   support\n",
            "\n",
            "           0     0.9990    0.9489    0.9733     15843\n",
            "           1     0.0000    0.0000    0.0000        15\n",
            "\n",
            "    accuracy                         0.9480     15858\n",
            "   macro avg     0.4995    0.4745    0.4867     15858\n",
            "weighted avg     0.9981    0.9480    0.9724     15858\n",
            "\n",
            "ROC-AUC: 0.44211954806539167\n",
            "\n",
            "===== Random Forest =====\n",
            "Confusion Matrix:\n",
            " [[15058   785]\n",
            " [   15     0]]\n",
            "              precision    recall  f1-score   support\n",
            "\n",
            "           0     0.9990    0.9505    0.9741     15843\n",
            "           1     0.0000    0.0000    0.0000        15\n",
            "\n",
            "    accuracy                         0.9496     15858\n",
            "   macro avg     0.4995    0.4752    0.4871     15858\n",
            "weighted avg     0.9981    0.9496    0.9732     15858\n",
            "\n",
            "ROC-AUC: 0.4690062908960845\n",
            "\n",
            "===== XGBoost =====\n"
          ]
        },
        {
          "output_type": "stream",
          "name": "stderr",
          "text": [
            "/usr/local/lib/python3.12/dist-packages/xgboost/training.py:183: UserWarning: [00:22:55] WARNING: /workspace/src/learner.cc:738: \n",
            "Parameters: { \"use_label_encoder\" } are not used.\n",
            "\n",
            "  bst.update(dtrain, iteration=i, fobj=obj)\n"
          ]
        },
        {
          "output_type": "stream",
          "name": "stdout",
          "text": [
            "Confusion Matrix:\n",
            " [[13904  1939]\n",
            " [   15     0]]\n",
            "              precision    recall  f1-score   support\n",
            "\n",
            "           0     0.9989    0.8776    0.9343     15843\n",
            "           1     0.0000    0.0000    0.0000        15\n",
            "\n",
            "    accuracy                         0.8768     15858\n",
            "   macro avg     0.4995    0.4388    0.4672     15858\n",
            "weighted avg     0.9980    0.8768    0.9335     15858\n",
            "\n",
            "ROC-AUC: 0.6470470660018095\n",
            "\n",
            "===== RINGKASAN HASIL =====\n",
            "                     Precision (class 1)  Recall (class 1)  \\\n",
            "Logistic Regression             0.001297          0.466667   \n",
            "Decision Tree                   0.000000          0.000000   \n",
            "Random Forest                   0.000000          0.000000   \n",
            "XGBoost                         0.000000          0.000000   \n",
            "\n",
            "                     F1-score (class 1)   ROC-AUC  \n",
            "Logistic Regression            0.002587  0.576698  \n",
            "Decision Tree                  0.000000  0.442120  \n",
            "Random Forest                  0.000000  0.469006  \n",
            "XGBoost                        0.000000  0.647047  \n"
          ]
        }
      ]
    },
    {
      "cell_type": "markdown",
      "source": [
        "🔎 Ringkasan\n",
        "\n",
        "- Logistic Regression\n",
        "-- Recall strike (kelas 1) = 0.47 → artinya 46% birdstrike berhasil terdeteksi.\n",
        "-- Precision strike = 0.0013 → banyak sekali false positive.\n",
        "-- Accuracy drop ke 66% karena model jadi \"over-sensitif\" ke strike.\n",
        "-- ROC-AUC = 0.57 (cukup buruk, tapi ada sinyal).\n",
        "\n",
        "- Decision Tree / Random Forest\n",
        "-- Recall strike = 0.0 → sama sekali tidak mendeteksi birdstrike.\n",
        "-- Accuracy tinggi (94–95%) tapi model bias ke kelas mayoritas (0).\n",
        "-- ROC-AUC = 0.44–0.47 (jelek).\n",
        "\n",
        "- XGBoost\n",
        "-- Recall strike = 0.0, sama → gagal deteksi strike.\n",
        "-- ROC-AUC = 0.65 → agak lebih baik di probabilitas, walau cutoff default (0.5) bikin model selalu prediksi 0."
      ],
      "metadata": {
        "id": "_nkolkKVCFjz"
      }
    },
    {
      "cell_type": "markdown",
      "source": [
        "- Mencoba tuning"
      ],
      "metadata": {
        "id": "Xx3lFyO1Cb0I"
      }
    },
    {
      "cell_type": "code",
      "source": [
        "import numpy as np\n",
        "from sklearn.metrics import confusion_matrix, classification_report, roc_auc_score\n",
        "\n",
        "# Ambil probabilitas prediksi dari XGBoost (bukan kelas langsung)\n",
        "xgb_model = models[\"XGBoost\"]\n",
        "y_proba = xgb_model.predict_proba(X_test)[:, 1]\n",
        "\n",
        "# Fungsi untuk evaluasi di berbagai threshold\n",
        "def evaluate_threshold(y_true, y_proba, threshold):\n",
        "    y_pred = (y_proba >= threshold).astype(int)\n",
        "    cm = confusion_matrix(y_true, y_pred)\n",
        "    print(f\"\\n===== Threshold: {threshold} =====\")\n",
        "    print(\"Confusion Matrix:\\n\", cm)\n",
        "    print(classification_report(y_true, y_pred, digits=4))\n",
        "    print(\"ROC-AUC:\", roc_auc_score(y_true, y_proba))\n",
        "\n",
        "# Coba beberapa threshold\n",
        "for t in [0.5, 0.3, 0.2, 0.1]:\n",
        "    evaluate_threshold(y_test, y_proba, t)"
      ],
      "metadata": {
        "colab": {
          "base_uri": "https://localhost:8080/"
        },
        "id": "UPj4qBT__f7A",
        "outputId": "11a3fd5f-4a68-4544-a544-d9c151fd6904"
      },
      "execution_count": null,
      "outputs": [
        {
          "output_type": "stream",
          "name": "stdout",
          "text": [
            "\n",
            "===== Threshold: 0.5 =====\n",
            "Confusion Matrix:\n",
            " [[13904  1939]\n",
            " [   15     0]]\n",
            "              precision    recall  f1-score   support\n",
            "\n",
            "           0     0.9989    0.8776    0.9343     15843\n",
            "           1     0.0000    0.0000    0.0000        15\n",
            "\n",
            "    accuracy                         0.8768     15858\n",
            "   macro avg     0.4995    0.4388    0.4672     15858\n",
            "weighted avg     0.9980    0.8768    0.9335     15858\n",
            "\n",
            "ROC-AUC: 0.6470470660018095\n",
            "\n",
            "===== Threshold: 0.3 =====\n",
            "Confusion Matrix:\n",
            " [[13869  1974]\n",
            " [   15     0]]\n",
            "              precision    recall  f1-score   support\n",
            "\n",
            "           0     0.9989    0.8754    0.9331     15843\n",
            "           1     0.0000    0.0000    0.0000        15\n",
            "\n",
            "    accuracy                         0.8746     15858\n",
            "   macro avg     0.4995    0.4377    0.4665     15858\n",
            "weighted avg     0.9980    0.8746    0.9322     15858\n",
            "\n",
            "ROC-AUC: 0.6470470660018095\n",
            "\n",
            "===== Threshold: 0.2 =====\n",
            "Confusion Matrix:\n",
            " [[13869  1974]\n",
            " [   15     0]]\n",
            "              precision    recall  f1-score   support\n",
            "\n",
            "           0     0.9989    0.8754    0.9331     15843\n",
            "           1     0.0000    0.0000    0.0000        15\n",
            "\n",
            "    accuracy                         0.8746     15858\n",
            "   macro avg     0.4995    0.4377    0.4665     15858\n",
            "weighted avg     0.9980    0.8746    0.9322     15858\n",
            "\n",
            "ROC-AUC: 0.6470470660018095\n",
            "\n",
            "===== Threshold: 0.1 =====\n",
            "Confusion Matrix:\n",
            " [[13777  2066]\n",
            " [   15     0]]\n",
            "              precision    recall  f1-score   support\n",
            "\n",
            "           0     0.9989    0.8696    0.9298     15843\n",
            "           1     0.0000    0.0000    0.0000        15\n",
            "\n",
            "    accuracy                         0.8688     15858\n",
            "   macro avg     0.4995    0.4348    0.4649     15858\n",
            "weighted avg     0.9980    0.8688    0.9289     15858\n",
            "\n",
            "ROC-AUC: 0.6470470660018095\n"
          ]
        }
      ]
    },
    {
      "cell_type": "code",
      "source": [
        "import pandas as pd\n",
        "import numpy as np\n",
        "from sklearn.model_selection import train_test_split\n",
        "from sklearn.metrics import classification_report, confusion_matrix, roc_auc_score\n",
        "from xgboost import XGBClassifier\n",
        "\n",
        "# === 1. Preprocessing Dataset ===\n",
        "df_model = df.copy()\n",
        "\n",
        "# Konversi jam jadi numerik\n",
        "df_model[\"hour\"] = pd.to_datetime(df_model[\"jam\"], errors=\"coerce\").dt.hour\n",
        "\n",
        "# Drop kolom yang tidak dipakai\n",
        "df_model = df_model.drop(columns=[\"tahun\", \"tanggal\", \"bulan\", \"jam\", \"tanggal_fix\"])\n",
        "\n",
        "# One-hot encoding untuk kolom kategorikal\n",
        "df_model = pd.get_dummies(df_model, columns=[\"waktu\", \"cuaca\", \"fase\"], drop_first=True)\n",
        "\n",
        "# Pisahkan fitur dan target\n",
        "X = df_model.drop(\"strike\", axis=1)\n",
        "y = df_model[\"strike\"]\n",
        "\n",
        "# Split data\n",
        "X_train, X_test, y_train, y_test = train_test_split(\n",
        "    X, y, test_size=0.3, random_state=42, stratify=y\n",
        ")\n",
        "\n",
        "# Hitung scale_pos_weight\n",
        "neg, pos = np.bincount(y_train)\n",
        "scale_pos_weight = neg / pos\n",
        "print(\"scale_pos_weight:\", scale_pos_weight)\n",
        "\n",
        "# === 2. Model XGBoost ===\n",
        "xgb_clf = XGBClassifier(\n",
        "    objective=\"binary:logistic\",\n",
        "    eval_metric=\"logloss\",\n",
        "    use_label_encoder=False,\n",
        "    scale_pos_weight=scale_pos_weight,  # handling imbalance\n",
        "    n_estimators=200,\n",
        "    max_depth=5,\n",
        "    learning_rate=0.1,\n",
        "    subsample=0.8,\n",
        "    colsample_bytree=0.8,\n",
        "    random_state=42\n",
        ")\n",
        "\n",
        "xgb_clf.fit(X_train, y_train)\n",
        "\n",
        "# === 3. Evaluasi ===\n",
        "y_pred = xgb_clf.predict(X_test)\n",
        "y_prob = xgb_clf.predict_proba(X_test)[:, 1]\n",
        "\n",
        "print(\"Confusion Matrix:\\n\", confusion_matrix(y_test, y_pred))\n",
        "print(\"\\n\", classification_report(y_test, y_pred, digits=4))\n",
        "print(\"ROC-AUC:\", roc_auc_score(y_test, y_prob))\n"
      ],
      "metadata": {
        "id": "BPSz-z2wCmRi",
        "colab": {
          "base_uri": "https://localhost:8080/"
        },
        "outputId": "c6497e48-aab1-4fe8-fd9a-3edadade6889"
      },
      "execution_count": null,
      "outputs": [
        {
          "output_type": "stream",
          "name": "stderr",
          "text": [
            "/tmp/ipython-input-4252755781.py:11: UserWarning: Could not infer format, so each element will be parsed individually, falling back to `dateutil`. To ensure parsing is consistent and as-expected, please specify a format.\n",
            "  df_model[\"hour\"] = pd.to_datetime(df_model[\"jam\"], errors=\"coerce\").dt.hour\n"
          ]
        },
        {
          "output_type": "stream",
          "name": "stdout",
          "text": [
            "scale_pos_weight: 1087.264705882353\n"
          ]
        },
        {
          "output_type": "stream",
          "name": "stderr",
          "text": [
            "/usr/local/lib/python3.12/dist-packages/xgboost/training.py:183: UserWarning: [00:22:57] WARNING: /workspace/src/learner.cc:738: \n",
            "Parameters: { \"use_label_encoder\" } are not used.\n",
            "\n",
            "  bst.update(dtrain, iteration=i, fobj=obj)\n"
          ]
        },
        {
          "output_type": "stream",
          "name": "stdout",
          "text": [
            "Confusion Matrix:\n",
            " [[15183   660]\n",
            " [   15     0]]\n",
            "\n",
            "               precision    recall  f1-score   support\n",
            "\n",
            "           0     0.9990    0.9583    0.9783     15843\n",
            "           1     0.0000    0.0000    0.0000        15\n",
            "\n",
            "    accuracy                         0.9574     15858\n",
            "   macro avg     0.4995    0.4792    0.4891     15858\n",
            "weighted avg     0.9981    0.9574    0.9773     15858\n",
            "\n",
            "ROC-AUC: 0.6972206442382546\n"
          ]
        }
      ]
    },
    {
      "cell_type": "code",
      "source": [
        "from sklearn.model_selection import train_test_split\n",
        "from sklearn.preprocessing import OneHotEncoder\n",
        "from sklearn.compose import ColumnTransformer\n",
        "from sklearn.pipeline import Pipeline\n",
        "from xgboost import XGBClassifier\n",
        "from sklearn.metrics import confusion_matrix, classification_report, roc_auc_score\n",
        "import numpy as np\n",
        "\n",
        "# === 1. Pilih fitur & target ===\n",
        "# features = [\"jam\", \"waktu\", \"cuaca\", \"jumlah burung pada titik x\", \"titik\", \"fase\"]\n",
        "target = \"strike\"\n",
        "\n",
        "# X and y are already defined and preprocessed in previous cells\n",
        "# X = df_model[features]\n",
        "# y = df_model[target]\n",
        "\n",
        "# === 2. Train-test split ===\n",
        "X_train, X_test, y_train, y_test = train_test_split(X, y, test_size=0.3, stratify=y, random_state=42)\n",
        "\n",
        "# === 3. Preprocessing (OneHot + Passthrough numeric) ===\n",
        "# The preprocessing is already done in previous steps\n",
        "# categorical = [\"jam\", \"waktu\", \"cuaca\", \"fase\"]\n",
        "# numeric = [\"jumlah burung pada titik x\", \"titik\"]\n",
        "\n",
        "# preprocessor = ColumnTransformer([\n",
        "#     (\"cat\", OneHotEncoder(handle_unknown=\"ignore\"), categorical),\n",
        "#     (\"num\", \"passthrough\", numeric)\n",
        "# ])\n",
        "\n",
        "# === 4. Pipeline with XGBoost ===\n",
        "# We will use the preprocessed X_train and X_test directly with the classifier\n",
        "# model = Pipeline(steps=[\n",
        "#     (\"preprocessor\", preprocessor),\n",
        "#     (\"classifier\", XGBClassifier(\n",
        "#         use_label_encoder=False,\n",
        "#         eval_metric=\"logloss\",\n",
        "#         scale_pos_weight= (y_train.value_counts()[0] / y_train.value_counts()[1])  # handle imbalance\n",
        "#     ))\n",
        "# ])\n",
        "\n",
        "# Instantiate the XGBoost classifier directly\n",
        "xgb_clf = XGBClassifier(\n",
        "    objective=\"binary:logistic\",\n",
        "    eval_metric=\"logloss\",\n",
        "    use_label_encoder=False,\n",
        "    scale_pos_weight= (y_train.value_counts()[0] / y_train.value_counts()[1]),  # handle imbalance\n",
        "    n_estimators=200,\n",
        "    max_depth=5,\n",
        "    learning_rate=0.1,\n",
        "    subsample=0.8,\n",
        "    colsample_bytree=0.8,\n",
        "    random_state=42\n",
        ")\n",
        "\n",
        "\n",
        "# === 5. Training ===\n",
        "# model.fit(X_train, y_train)\n",
        "xgb_clf.fit(X_train, y_train)\n",
        "\n",
        "\n",
        "# === 6. Prediksi probabilitas untuk thresholding ===\n",
        "# y_prob = model.predict_proba(X_test)[:, 1]\n",
        "y_prob = xgb_clf.predict_proba(X_test)[:, 1]\n",
        "\n",
        "# === 7. Uji beberapa threshold ===\n",
        "thresholds = [0.5, 0.3, 0.2, 0.1, 0.05]\n",
        "for t in thresholds:\n",
        "    y_pred_thr = (y_prob >= t).astype(int)\n",
        "    print(f\"\\n===== Threshold: {t} =====\")\n",
        "    print(\"Confusion Matrix:\\n\", confusion_matrix(y_test, y_pred_thr))\n",
        "    print(classification_report(y_test, y_pred_thr, digits=4))\n",
        "    print(\"ROC-AUC:\", roc_auc_score(y_test, y_prob))"
      ],
      "metadata": {
        "colab": {
          "base_uri": "https://localhost:8080/"
        },
        "id": "5Cy9mMa2nXQL",
        "outputId": "d856c4c8-0367-4270-8340-06751a5901b1"
      },
      "execution_count": null,
      "outputs": [
        {
          "output_type": "stream",
          "name": "stderr",
          "text": [
            "/usr/local/lib/python3.12/dist-packages/xgboost/training.py:183: UserWarning: [00:27:31] WARNING: /workspace/src/learner.cc:738: \n",
            "Parameters: { \"use_label_encoder\" } are not used.\n",
            "\n",
            "  bst.update(dtrain, iteration=i, fobj=obj)\n"
          ]
        },
        {
          "output_type": "stream",
          "name": "stdout",
          "text": [
            "\n",
            "===== Threshold: 0.5 =====\n",
            "Confusion Matrix:\n",
            " [[15183   660]\n",
            " [   15     0]]\n",
            "              precision    recall  f1-score   support\n",
            "\n",
            "           0     0.9990    0.9583    0.9783     15843\n",
            "           1     0.0000    0.0000    0.0000        15\n",
            "\n",
            "    accuracy                         0.9574     15858\n",
            "   macro avg     0.4995    0.4792    0.4891     15858\n",
            "weighted avg     0.9981    0.9574    0.9773     15858\n",
            "\n",
            "ROC-AUC: 0.6972206442382546\n",
            "\n",
            "===== Threshold: 0.3 =====\n",
            "Confusion Matrix:\n",
            " [[15133   710]\n",
            " [   15     0]]\n",
            "              precision    recall  f1-score   support\n",
            "\n",
            "           0     0.9990    0.9552    0.9766     15843\n",
            "           1     0.0000    0.0000    0.0000        15\n",
            "\n",
            "    accuracy                         0.9543     15858\n",
            "   macro avg     0.4995    0.4776    0.4883     15858\n",
            "weighted avg     0.9981    0.9543    0.9757     15858\n",
            "\n",
            "ROC-AUC: 0.6972206442382546\n",
            "\n",
            "===== Threshold: 0.2 =====\n",
            "Confusion Matrix:\n",
            " [[15005   838]\n",
            " [   14     1]]\n",
            "              precision    recall  f1-score   support\n",
            "\n",
            "           0     0.9991    0.9471    0.9724     15843\n",
            "           1     0.0012    0.0667    0.0023        15\n",
            "\n",
            "    accuracy                         0.9463     15858\n",
            "   macro avg     0.5001    0.5069    0.4874     15858\n",
            "weighted avg     0.9981    0.9463    0.9715     15858\n",
            "\n",
            "ROC-AUC: 0.6972206442382546\n",
            "\n",
            "===== Threshold: 0.1 =====\n",
            "Confusion Matrix:\n",
            " [[14771  1072]\n",
            " [   13     2]]\n",
            "              precision    recall  f1-score   support\n",
            "\n",
            "           0     0.9991    0.9323    0.9646     15843\n",
            "           1     0.0019    0.1333    0.0037        15\n",
            "\n",
            "    accuracy                         0.9316     15858\n",
            "   macro avg     0.5005    0.5328    0.4841     15858\n",
            "weighted avg     0.9982    0.9316    0.9637     15858\n",
            "\n",
            "ROC-AUC: 0.6972206442382546\n",
            "\n",
            "===== Threshold: 0.05 =====\n",
            "Confusion Matrix:\n",
            " [[14300  1543]\n",
            " [   13     2]]\n",
            "              precision    recall  f1-score   support\n",
            "\n",
            "           0     0.9991    0.9026    0.9484     15843\n",
            "           1     0.0013    0.1333    0.0026        15\n",
            "\n",
            "    accuracy                         0.9019     15858\n",
            "   macro avg     0.5002    0.5180    0.4755     15858\n",
            "weighted avg     0.9981    0.9019    0.9475     15858\n",
            "\n",
            "ROC-AUC: 0.6972206442382546\n"
          ]
        }
      ]
    },
    {
      "cell_type": "code",
      "source": [
        "# Balanced Random Forest Classifier\n",
        "from imblearn.ensemble import BalancedRandomForestClassifier\n",
        "from sklearn.model_selection import train_test_split\n",
        "from sklearn.preprocessing import OneHotEncoder\n",
        "from sklearn.compose import ColumnTransformer\n",
        "from sklearn.pipeline import Pipeline\n",
        "from sklearn.metrics import confusion_matrix, classification_report, roc_auc_score\n",
        "import numpy as np\n",
        "\n",
        "# === 1. Pilih fitur & target ===\n",
        "# features = [\"jam\", \"waktu\", \"cuaca\", \"jumlah burung pada titik x\", \"titik\", \"fase\"]\n",
        "target = \"strike\"\n",
        "\n",
        "# X and y are already defined and preprocessed in previous cells\n",
        "# X = df_model[features]\n",
        "# y = df_model[target]\n",
        "\n",
        "# === 2. Train-test split ===\n",
        "X_train, X_test, y_train, y_test = train_test_split(\n",
        "    X, y, test_size=0.3, stratify=y, random_state=42\n",
        ")\n",
        "\n",
        "# === 3. Preprocessing (OneHot untuk kategori, passthrough numeric) ===\n",
        "# categorical = [\"jam\", \"waktu\", \"cuaca\", \"fase\"]\n",
        "# numeric = [\"jumlah burung pada titik x\", \"titik\"]\n",
        "\n",
        "# preprocessor = ColumnTransformer([\n",
        "#     (\"cat\", OneHotEncoder(handle_unknown=\"ignore\"), categorical),\n",
        "#     (\"num\", \"passthrough\", numeric)\n",
        "# ])\n",
        "\n",
        "# === 4. Balanced Random Forest ===\n",
        "# We will use the preprocessed X_train and X_test directly with the classifier\n",
        "# brf = Pipeline(steps=[\n",
        "#     (\"preprocessor\", preprocessor),\n",
        "#     (\"classifier\", BalancedRandomForestClassifier(\n",
        "#         n_estimators=200,\n",
        "#         random_state=42,\n",
        "#         n_jobs=-1\n",
        "#     ))\n",
        "# ])\n",
        "\n",
        "# Instantiate BalancedRandomForestClassifier directly\n",
        "brf = BalancedRandomForestClassifier(\n",
        "    n_estimators=200,\n",
        "    random_state=42,\n",
        "    n_jobs=-1\n",
        ")\n",
        "\n",
        "# === 5. Training ===\n",
        "# brf.fit(X_train, y_train)\n",
        "brf.fit(X_train, y_train)\n",
        "\n",
        "# === 6. Prediksi & Evaluasi ===\n",
        "y_prob = brf.predict_proba(X_test)[:, 1]\n",
        "y_pred = brf.predict(X_test)\n",
        "\n",
        "print(\"Confusion Matrix:\\n\", confusion_matrix(y_test, y_pred))\n",
        "print(classification_report(y_test, y_pred, digits=4))\n",
        "print(\"ROC-AUC:\", roc_auc_score(y_test, y_prob))"
      ],
      "metadata": {
        "colab": {
          "base_uri": "https://localhost:8080/"
        },
        "id": "weKTLHaOnnDg",
        "outputId": "b9a3df6e-df2b-477e-acc4-8dfb17076a04"
      },
      "execution_count": null,
      "outputs": [
        {
          "output_type": "stream",
          "name": "stdout",
          "text": [
            "Confusion Matrix:\n",
            " [[13038  2805]\n",
            " [    7     8]]\n",
            "              precision    recall  f1-score   support\n",
            "\n",
            "           0     0.9995    0.8230    0.9027     15843\n",
            "           1     0.0028    0.5333    0.0057        15\n",
            "\n",
            "    accuracy                         0.8227     15858\n",
            "   macro avg     0.5012    0.6781    0.4542     15858\n",
            "weighted avg     0.9985    0.8227    0.9018     15858\n",
            "\n",
            "ROC-AUC: 0.7346651518020576\n"
          ]
        }
      ]
    },
    {
      "cell_type": "code",
      "source": [
        "# EasyEnsembleClassifier (EEC)\n",
        "from imblearn.ensemble import EasyEnsembleClassifier\n",
        "from sklearn.model_selection import train_test_split\n",
        "from sklearn.preprocessing import OneHotEncoder\n",
        "from sklearn.compose import ColumnTransformer\n",
        "from sklearn.pipeline import Pipeline\n",
        "from sklearn.metrics import confusion_matrix, classification_report, roc_auc_score\n",
        "\n",
        "# === 1. Pilih fitur & target ===\n",
        "# features = [\"jam\", \"waktu\", \"cuaca\", \"jumlah burung pada titik x\", \"titik\", \"fase\"]\n",
        "target = \"strike\"\n",
        "\n",
        "# X and y are already defined and preprocessed in previous cells\n",
        "# X = df_model[features]\n",
        "# y = df_model[target]\n",
        "\n",
        "# === 2. Train-test split ===\n",
        "X_train, X_test, y_train, y_test = train_test_split(\n",
        "    X, y, test_size=0.3, stratify=y, random_state=42\n",
        ")\n",
        "\n",
        "# === 3. Preprocessing (kategori pakai OneHot) ===\n",
        "# categorical = [\"jam\", \"waktu\", \"cuaca\", \"fase\"]\n",
        "# numeric = [\"jumlah burung pada titik x\", \"titik\"]\n",
        "\n",
        "# preprocessor = ColumnTransformer([\n",
        "#     (\"cat\", OneHotEncoder(handle_unknown=\"ignore\"), categorical),\n",
        "#     (\"num\", \"passthrough\", numeric)\n",
        "# ])\n",
        "\n",
        "# === 4. Easy Ensemble Classifier ===\n",
        "# We will use the preprocessed X_train and X_test directly with the classifier\n",
        "# eec = Pipeline(steps=[\n",
        "#     (\"preprocessor\", preprocessor),\n",
        "#     (\"classifier\", EasyEnsembleClassifier(\n",
        "#         n_estimators=50,   # jumlah \"ensemble\" (set resample)\n",
        "#         random_state=42,\n",
        "#         n_jobs=-1\n",
        "#     ))\n",
        "# ])\n",
        "\n",
        "# Instantiate EasyEnsembleClassifier directly\n",
        "eec = EasyEnsembleClassifier(\n",
        "    n_estimators=50,   # jumlah \"ensemble\" (set resample)\n",
        "    random_state=42,\n",
        "    n_jobs=-1\n",
        ")\n",
        "\n",
        "\n",
        "# === 5. Training ===\n",
        "# eec.fit(X_train, y_train)\n",
        "eec.fit(X_train, y_train)\n",
        "\n",
        "# === 6. Prediksi & Evaluasi ===\n",
        "y_prob = eec.predict_proba(X_test)[:, 1]\n",
        "y_pred = eec.predict(X_test)\n",
        "\n",
        "print(\"Confusion Matrix:\\n\", confusion_matrix(y_test, y_pred))\n",
        "print(classification_report(y_test, y_pred, digits=4))\n",
        "print(\"ROC-AUC:\", roc_auc_score(y_test, y_prob))"
      ],
      "metadata": {
        "colab": {
          "base_uri": "https://localhost:8080/"
        },
        "id": "sXwEEwXioqA7",
        "outputId": "2a990078-4dab-4b6b-e003-d9be9677380a"
      },
      "execution_count": null,
      "outputs": [
        {
          "output_type": "stream",
          "name": "stdout",
          "text": [
            "Confusion Matrix:\n",
            " [[11310  4533]\n",
            " [    6     9]]\n",
            "              precision    recall  f1-score   support\n",
            "\n",
            "           0     0.9995    0.7139    0.8329     15843\n",
            "           1     0.0020    0.6000    0.0039        15\n",
            "\n",
            "    accuracy                         0.7138     15858\n",
            "   macro avg     0.5007    0.6569    0.4184     15858\n",
            "weighted avg     0.9985    0.7138    0.8321     15858\n",
            "\n",
            "ROC-AUC: 0.7198426223989565\n"
          ]
        }
      ]
    },
    {
      "cell_type": "code",
      "metadata": {
        "colab": {
          "base_uri": "https://localhost:8080/"
        },
        "id": "485898cb",
        "outputId": "43d20a95-6d2f-4930-9030-a8b362c3d88d"
      },
      "source": [
        "%pip install catboost"
      ],
      "execution_count": null,
      "outputs": [
        {
          "output_type": "stream",
          "name": "stdout",
          "text": [
            "Collecting catboost\n",
            "  Downloading catboost-1.2.8-cp312-cp312-manylinux2014_x86_64.whl.metadata (1.2 kB)\n",
            "Requirement already satisfied: graphviz in /usr/local/lib/python3.12/dist-packages (from catboost) (0.21)\n",
            "Requirement already satisfied: matplotlib in /usr/local/lib/python3.12/dist-packages (from catboost) (3.10.0)\n",
            "Requirement already satisfied: numpy<3.0,>=1.16.0 in /usr/local/lib/python3.12/dist-packages (from catboost) (2.0.2)\n",
            "Requirement already satisfied: pandas>=0.24 in /usr/local/lib/python3.12/dist-packages (from catboost) (2.2.2)\n",
            "Requirement already satisfied: scipy in /usr/local/lib/python3.12/dist-packages (from catboost) (1.16.1)\n",
            "Requirement already satisfied: plotly in /usr/local/lib/python3.12/dist-packages (from catboost) (5.24.1)\n",
            "Requirement already satisfied: six in /usr/local/lib/python3.12/dist-packages (from catboost) (1.17.0)\n",
            "Requirement already satisfied: python-dateutil>=2.8.2 in /usr/local/lib/python3.12/dist-packages (from pandas>=0.24->catboost) (2.9.0.post0)\n",
            "Requirement already satisfied: pytz>=2020.1 in /usr/local/lib/python3.12/dist-packages (from pandas>=0.24->catboost) (2025.2)\n",
            "Requirement already satisfied: tzdata>=2022.7 in /usr/local/lib/python3.12/dist-packages (from pandas>=0.24->catboost) (2025.2)\n",
            "Requirement already satisfied: contourpy>=1.0.1 in /usr/local/lib/python3.12/dist-packages (from matplotlib->catboost) (1.3.3)\n",
            "Requirement already satisfied: cycler>=0.10 in /usr/local/lib/python3.12/dist-packages (from matplotlib->catboost) (0.12.1)\n",
            "Requirement already satisfied: fonttools>=4.22.0 in /usr/local/lib/python3.12/dist-packages (from matplotlib->catboost) (4.59.1)\n",
            "Requirement already satisfied: kiwisolver>=1.3.1 in /usr/local/lib/python3.12/dist-packages (from matplotlib->catboost) (1.4.9)\n",
            "Requirement already satisfied: packaging>=20.0 in /usr/local/lib/python3.12/dist-packages (from matplotlib->catboost) (25.0)\n",
            "Requirement already satisfied: pillow>=8 in /usr/local/lib/python3.12/dist-packages (from matplotlib->catboost) (11.3.0)\n",
            "Requirement already satisfied: pyparsing>=2.3.1 in /usr/local/lib/python3.12/dist-packages (from matplotlib->catboost) (3.2.3)\n",
            "Requirement already satisfied: tenacity>=6.2.0 in /usr/local/lib/python3.12/dist-packages (from plotly->catboost) (8.5.0)\n",
            "Downloading catboost-1.2.8-cp312-cp312-manylinux2014_x86_64.whl (99.2 MB)\n",
            "\u001b[2K   \u001b[90m━━━━━━━━━━━━━━━━━━━━━━━━━━━━━━━━━━━━━━━━\u001b[0m \u001b[32m99.2/99.2 MB\u001b[0m \u001b[31m9.4 MB/s\u001b[0m eta \u001b[36m0:00:00\u001b[0m\n",
            "\u001b[?25hInstalling collected packages: catboost\n",
            "Successfully installed catboost-1.2.8\n"
          ]
        }
      ]
    },
    {
      "cell_type": "code",
      "source": [
        "# CatBoostClassifier\n",
        "from catboost import CatBoostClassifier, Pool\n",
        "from sklearn.model_selection import train_test_split\n",
        "from sklearn.metrics import confusion_matrix, classification_report, roc_auc_score\n",
        "\n",
        "# === 1. Pilih fitur & target ===\n",
        "features = [\"jumlah burung pada titik x\", \"titik\", \"hour\", \"dayofweek\", \"is_weekend\", \"waktu_Dini Hari\", \"waktu_Malam\", \"waktu_Pagi\", \"waktu_Siang\", \"waktu_Sore\", \"cuaca_Cerah Berawan\", \"cuaca_Hujan\", \"cuaca_Mendung\", \"fase_Take Off\"]\n",
        "target = \"strike\"\n",
        "\n",
        "# Use the already processed X and y\n",
        "# X = df_model[features]\n",
        "# y = df_model[target]\n",
        "\n",
        "# === 2. Train-test split ===\n",
        "X_train, X_test, y_train, y_test = train_test_split(\n",
        "    X, y, test_size=0.3, stratify=y, random_state=42\n",
        ")\n",
        "\n",
        "# === 3. Identifikasi kolom kategori ===\n",
        "# Since we used one-hot encoding, there are no categorical features in X_train\n",
        "# If you want to use CatBoost's internal categorical handling, you would need to adjust preprocessing.\n",
        "# For now, we will treat all features as numerical as they are already one-hot encoded or numerical.\n",
        "cat_features = [] # Assuming X is already preprocessed with one-hot encoding\n",
        "\n",
        "# === 4. Hitung scale_pos_weight ===\n",
        "neg, pos = y_train.value_counts()\n",
        "scale_pos_weight = neg / pos\n",
        "print(\"scale_pos_weight:\", scale_pos_weight)\n",
        "\n",
        "# === 5. Definisikan CatBoost ===\n",
        "cat_model = CatBoostClassifier(\n",
        "    iterations=1000,\n",
        "    learning_rate=0.05,\n",
        "    depth=8,\n",
        "    eval_metric=\"AUC\",\n",
        "    random_seed=42,\n",
        "    verbose=200,\n",
        "    # cat_features=cat_features, # Remove this if treating all as numerical after one-hot\n",
        "    scale_pos_weight=scale_pos_weight\n",
        ")\n",
        "\n",
        "# === 6. Training ===\n",
        "# Create CatBoost Pool if using internal categorical handling, otherwise fit directly\n",
        "# train_pool = Pool(data=X_train, label=y_train, cat_features=cat_features)\n",
        "# test_pool = Pool(data=X_test, label=y_test, cat_features=cat_features)\n",
        "\n",
        "# cat_model.fit(train_pool, eval_set=test_pool, early_stopping_rounds=100)\n",
        "cat_model.fit(X_train, y_train, eval_set=(X_test, y_test), early_stopping_rounds=100)\n",
        "\n",
        "\n",
        "# === 7. Prediksi & Evaluasi ===\n",
        "y_prob = cat_model.predict_proba(X_test)[:, 1]\n",
        "y_pred = cat_model.predict(X_test)\n",
        "\n",
        "print(\"\\nConfusion Matrix:\\n\", confusion_matrix(y_test, y_pred))\n",
        "print(classification_report(y_test, y_pred, digits=4))\n",
        "print(\"ROC-AUC:\", roc_auc_score(y_test, y_prob))"
      ],
      "metadata": {
        "colab": {
          "base_uri": "https://localhost:8080/"
        },
        "id": "CATN_GFHrTG4",
        "outputId": "f2023f0e-826e-4382-f99b-47611139090b"
      },
      "execution_count": null,
      "outputs": [
        {
          "output_type": "stream",
          "name": "stdout",
          "text": [
            "scale_pos_weight: 1087.264705882353\n",
            "0:\ttest: 0.7202487\tbest: 0.7202487 (0)\ttotal: 60.9ms\tremaining: 1m\n",
            "Stopped by overfitting detector  (100 iterations wait)\n",
            "\n",
            "bestTest = 0.7360327379\n",
            "bestIteration = 1\n",
            "\n",
            "Shrink model to first 2 iterations.\n",
            "\n",
            "Confusion Matrix:\n",
            " [[11463  4380]\n",
            " [    6     9]]\n",
            "              precision    recall  f1-score   support\n",
            "\n",
            "           0     0.9995    0.7235    0.8394     15843\n",
            "           1     0.0021    0.6000    0.0041        15\n",
            "\n",
            "    accuracy                         0.7234     15858\n",
            "   macro avg     0.5008    0.6618    0.4217     15858\n",
            "weighted avg     0.9985    0.7234    0.8386     15858\n",
            "\n",
            "ROC-AUC: 0.7360327379073829\n"
          ]
        }
      ]
    },
    {
      "cell_type": "code",
      "source": [
        "# CatBoostClassifier with treshold tuning\n",
        "import numpy as np\n",
        "from sklearn.metrics import confusion_matrix, classification_report, roc_auc_score\n",
        "\n",
        "# ambil probabilitas kelas 1 dari CatBoost\n",
        "y_prob = cat_model.predict_proba(X_test)[:, 1]\n",
        "\n",
        "# coba beberapa threshold\n",
        "thresholds = [0.5, 0.3, 0.2, 0.1]\n",
        "\n",
        "for thr in thresholds:\n",
        "    print(f\"\\n===== Threshold: {thr} =====\")\n",
        "    y_pred_thr = (y_prob >= thr).astype(int)\n",
        "\n",
        "    cm = confusion_matrix(y_test, y_pred_thr)\n",
        "    print(\"Confusion Matrix:\\n\", cm)\n",
        "\n",
        "    print(classification_report(y_test, y_pred_thr, digits=4))\n",
        "\n",
        "    roc_auc = roc_auc_score(y_test, y_prob)\n",
        "    print(\"ROC-AUC:\", roc_auc)"
      ],
      "metadata": {
        "colab": {
          "base_uri": "https://localhost:8080/"
        },
        "id": "yNNpCZ6PtH2B",
        "outputId": "b98d81ea-c124-497d-a672-244275608a13"
      },
      "execution_count": null,
      "outputs": [
        {
          "output_type": "stream",
          "name": "stdout",
          "text": [
            "\n",
            "===== Threshold: 0.5 =====\n",
            "Confusion Matrix:\n",
            " [[11463  4380]\n",
            " [    6     9]]\n",
            "              precision    recall  f1-score   support\n",
            "\n",
            "           0     0.9995    0.7235    0.8394     15843\n",
            "           1     0.0021    0.6000    0.0041        15\n",
            "\n",
            "    accuracy                         0.7234     15858\n",
            "   macro avg     0.5008    0.6618    0.4217     15858\n",
            "weighted avg     0.9985    0.7234    0.8386     15858\n",
            "\n",
            "ROC-AUC: 0.7360327379073829\n",
            "\n",
            "===== Threshold: 0.3 =====\n",
            "Confusion Matrix:\n",
            " [[    0 15843]\n",
            " [    0    15]]\n",
            "              precision    recall  f1-score   support\n",
            "\n",
            "           0     0.0000    0.0000    0.0000     15843\n",
            "           1     0.0009    1.0000    0.0019        15\n",
            "\n",
            "    accuracy                         0.0009     15858\n",
            "   macro avg     0.0005    0.5000    0.0009     15858\n",
            "weighted avg     0.0000    0.0009    0.0000     15858\n",
            "\n",
            "ROC-AUC: 0.7360327379073829\n",
            "\n",
            "===== Threshold: 0.2 =====\n",
            "Confusion Matrix:\n",
            " [[    0 15843]\n",
            " [    0    15]]\n",
            "              precision    recall  f1-score   support\n",
            "\n",
            "           0     0.0000    0.0000    0.0000     15843\n",
            "           1     0.0009    1.0000    0.0019        15\n",
            "\n",
            "    accuracy                         0.0009     15858\n",
            "   macro avg     0.0005    0.5000    0.0009     15858\n",
            "weighted avg     0.0000    0.0009    0.0000     15858\n",
            "\n",
            "ROC-AUC: 0.7360327379073829\n",
            "\n",
            "===== Threshold: 0.1 =====\n",
            "Confusion Matrix:\n",
            " [[    0 15843]\n",
            " [    0    15]]\n",
            "              precision    recall  f1-score   support\n",
            "\n",
            "           0     0.0000    0.0000    0.0000     15843\n",
            "           1     0.0009    1.0000    0.0019        15\n",
            "\n",
            "    accuracy                         0.0009     15858\n",
            "   macro avg     0.0005    0.5000    0.0009     15858\n",
            "weighted avg     0.0000    0.0009    0.0000     15858\n",
            "\n",
            "ROC-AUC: 0.7360327379073829\n"
          ]
        },
        {
          "output_type": "stream",
          "name": "stderr",
          "text": [
            "/usr/local/lib/python3.12/dist-packages/sklearn/metrics/_classification.py:1565: UndefinedMetricWarning: Precision is ill-defined and being set to 0.0 in labels with no predicted samples. Use `zero_division` parameter to control this behavior.\n",
            "  _warn_prf(average, modifier, f\"{metric.capitalize()} is\", len(result))\n",
            "/usr/local/lib/python3.12/dist-packages/sklearn/metrics/_classification.py:1565: UndefinedMetricWarning: Precision is ill-defined and being set to 0.0 in labels with no predicted samples. Use `zero_division` parameter to control this behavior.\n",
            "  _warn_prf(average, modifier, f\"{metric.capitalize()} is\", len(result))\n",
            "/usr/local/lib/python3.12/dist-packages/sklearn/metrics/_classification.py:1565: UndefinedMetricWarning: Precision is ill-defined and being set to 0.0 in labels with no predicted samples. Use `zero_division` parameter to control this behavior.\n",
            "  _warn_prf(average, modifier, f\"{metric.capitalize()} is\", len(result))\n",
            "/usr/local/lib/python3.12/dist-packages/sklearn/metrics/_classification.py:1565: UndefinedMetricWarning: Precision is ill-defined and being set to 0.0 in labels with no predicted samples. Use `zero_division` parameter to control this behavior.\n",
            "  _warn_prf(average, modifier, f\"{metric.capitalize()} is\", len(result))\n",
            "/usr/local/lib/python3.12/dist-packages/sklearn/metrics/_classification.py:1565: UndefinedMetricWarning: Precision is ill-defined and being set to 0.0 in labels with no predicted samples. Use `zero_division` parameter to control this behavior.\n",
            "  _warn_prf(average, modifier, f\"{metric.capitalize()} is\", len(result))\n",
            "/usr/local/lib/python3.12/dist-packages/sklearn/metrics/_classification.py:1565: UndefinedMetricWarning: Precision is ill-defined and being set to 0.0 in labels with no predicted samples. Use `zero_division` parameter to control this behavior.\n",
            "  _warn_prf(average, modifier, f\"{metric.capitalize()} is\", len(result))\n",
            "/usr/local/lib/python3.12/dist-packages/sklearn/metrics/_classification.py:1565: UndefinedMetricWarning: Precision is ill-defined and being set to 0.0 in labels with no predicted samples. Use `zero_division` parameter to control this behavior.\n",
            "  _warn_prf(average, modifier, f\"{metric.capitalize()} is\", len(result))\n",
            "/usr/local/lib/python3.12/dist-packages/sklearn/metrics/_classification.py:1565: UndefinedMetricWarning: Precision is ill-defined and being set to 0.0 in labels with no predicted samples. Use `zero_division` parameter to control this behavior.\n",
            "  _warn_prf(average, modifier, f\"{metric.capitalize()} is\", len(result))\n",
            "/usr/local/lib/python3.12/dist-packages/sklearn/metrics/_classification.py:1565: UndefinedMetricWarning: Precision is ill-defined and being set to 0.0 in labels with no predicted samples. Use `zero_division` parameter to control this behavior.\n",
            "  _warn_prf(average, modifier, f\"{metric.capitalize()} is\", len(result))\n"
          ]
        }
      ]
    },
    {
      "cell_type": "code",
      "source": [
        "# EasyEnsembleClassifier (boosting khusus imbalance) & CatBoostClassifier (stabil di data imbalance)\n",
        "from sklearn.ensemble import StackingClassifier\n",
        "from sklearn.linear_model import LogisticRegression\n",
        "from imblearn.ensemble import EasyEnsembleClassifier\n",
        "from catboost import CatBoostClassifier\n",
        "from sklearn.metrics import classification_report, confusion_matrix, roc_auc_score\n",
        "\n",
        "# Model base\n",
        "easy = EasyEnsembleClassifier(\n",
        "    n_estimators=10,\n",
        "    random_state=42\n",
        ")\n",
        "\n",
        "cat = CatBoostClassifier(\n",
        "    iterations=500,\n",
        "    depth=6,\n",
        "    learning_rate=0.1,\n",
        "    scale_pos_weight=scale_pos_weight,  # pakai imbalance ratio\n",
        "    verbose=0,\n",
        "    random_state=42\n",
        ")\n",
        "\n",
        "# Meta-model (level-2)\n",
        "meta = LogisticRegression(max_iter=1000, class_weight=\"balanced\")\n",
        "\n",
        "# Stacking Ensemble\n",
        "stack_model = StackingClassifier(\n",
        "    estimators=[('easy', easy), ('cat', cat)],\n",
        "    final_estimator=meta,\n",
        "    cv=5,\n",
        "    n_jobs=-1,\n",
        "    passthrough=True  # biar meta-model juga dapat input fitur asli\n",
        ")\n",
        "\n",
        "# Training\n",
        "stack_model.fit(X_train, y_train)\n",
        "\n",
        "# Evaluasi\n",
        "y_pred = stack_model.predict(X_test)\n",
        "y_prob = stack_model.predict_proba(X_test)[:, 1]\n",
        "\n",
        "print(\"Confusion Matrix:\\n\", confusion_matrix(y_test, y_pred))\n",
        "print(\"\\nClassification Report:\\n\", classification_report(y_test, y_pred, digits=4))\n",
        "print(\"ROC-AUC:\", roc_auc_score(y_test, y_prob))\n",
        "\n",
        "# Makin jelek jangan dipake\n"
      ],
      "metadata": {
        "colab": {
          "base_uri": "https://localhost:8080/"
        },
        "id": "XuDUFpLiu32T",
        "outputId": "ee82a774-1a28-429b-9325-c34e35282310"
      },
      "execution_count": null,
      "outputs": [
        {
          "output_type": "stream",
          "name": "stderr",
          "text": [
            "/usr/local/lib/python3.12/dist-packages/sklearn/linear_model/_logistic.py:465: ConvergenceWarning: lbfgs failed to converge (status=1):\n",
            "STOP: TOTAL NO. OF ITERATIONS REACHED LIMIT.\n",
            "\n",
            "Increase the number of iterations (max_iter) or scale the data as shown in:\n",
            "    https://scikit-learn.org/stable/modules/preprocessing.html\n",
            "Please also refer to the documentation for alternative solver options:\n",
            "    https://scikit-learn.org/stable/modules/linear_model.html#logistic-regression\n",
            "  n_iter_i = _check_optimize_result(\n"
          ]
        },
        {
          "output_type": "stream",
          "name": "stdout",
          "text": [
            "Confusion Matrix:\n",
            " [[10351  5492]\n",
            " [    5    10]]\n",
            "\n",
            "Classification Report:\n",
            "               precision    recall  f1-score   support\n",
            "\n",
            "           0     0.9995    0.6533    0.7902     15843\n",
            "           1     0.0018    0.6667    0.0036        15\n",
            "\n",
            "    accuracy                         0.6534     15858\n",
            "   macro avg     0.5007    0.6600    0.3969     15858\n",
            "weighted avg     0.9986    0.6534    0.7894     15858\n",
            "\n",
            "ROC-AUC: 0.6745208188684803\n"
          ]
        }
      ]
    },
    {
      "cell_type": "code",
      "source": [
        "# Ternyata yang paling oke yaitu CatBoost\n",
        "from catboost import CatBoostClassifier\n",
        "from sklearn.calibration import CalibratedClassifierCV\n",
        "from sklearn.metrics import roc_auc_score, confusion_matrix, classification_report\n",
        "\n",
        "# ======================\n",
        "# 1. Train CatBoost\n",
        "# ======================\n",
        "cat_model = CatBoostClassifier(\n",
        "    iterations=1000,\n",
        "    learning_rate=0.05,\n",
        "    depth=6,\n",
        "    eval_metric=\"AUC\",\n",
        "    scale_pos_weight=scale_pos_weight,  # dari imbalance ratio\n",
        "    random_seed=42,\n",
        "    verbose=100,\n",
        "    early_stopping_rounds=100\n",
        ")\n",
        "\n",
        "cat_model.fit(X_train, y_train, eval_set=(X_test, y_test), verbose=False)\n",
        "\n",
        "# ======================\n",
        "# 2. Kalibrasi probabilitas\n",
        "# ======================\n",
        "calibrated_model = CalibratedClassifierCV(base_estimator=cat_model, method=\"sigmoid\", cv=\"prefit\")\n",
        "calibrated_model.fit(X_train, y_train)\n",
        "\n",
        "# ======================\n",
        "# 3. Evaluasi\n",
        "# ======================\n",
        "y_prob = calibrated_model.predict_proba(X_test)[:, 1]\n",
        "y_pred = (y_prob >= 0.5).astype(int)\n",
        "\n",
        "print(\"Confusion Matrix:\")\n",
        "print(confusion_matrix(y_test, y_pred))\n",
        "\n",
        "print(\"\\nClassification Report:\")\n",
        "print(classification_report(y_test, y_pred, digits=4))\n",
        "\n",
        "print(\"ROC-AUC:\", roc_auc_score(y_test, y_prob))\n",
        "\n",
        "# cek contoh probabilitas prediksi\n",
        "print(\"\\nContoh probabilitas prediksi (persentase risiko birdstrike):\")\n",
        "for i in range(5):\n",
        "    print(f\"Sample {i+1}: {y_prob[i]*100:.2f}%\")"
      ],
      "metadata": {
        "id": "o6BHxtkdu4BI",
        "colab": {
          "base_uri": "https://localhost:8080/",
          "height": 384
        },
        "outputId": "d1b12ec2-8697-4bf1-da47-c010d2294360"
      },
      "execution_count": null,
      "outputs": [
        {
          "output_type": "error",
          "ename": "ModuleNotFoundError",
          "evalue": "No module named 'catboost'",
          "traceback": [
            "\u001b[0;31m---------------------------------------------------------------------------\u001b[0m",
            "\u001b[0;31mModuleNotFoundError\u001b[0m                       Traceback (most recent call last)",
            "\u001b[0;32m/tmp/ipython-input-3803704789.py\u001b[0m in \u001b[0;36m<cell line: 0>\u001b[0;34m()\u001b[0m\n\u001b[1;32m      1\u001b[0m \u001b[0;31m# Ternyata yang paling oke yaitu CatBoost\u001b[0m\u001b[0;34m\u001b[0m\u001b[0;34m\u001b[0m\u001b[0m\n\u001b[0;32m----> 2\u001b[0;31m \u001b[0;32mfrom\u001b[0m \u001b[0mcatboost\u001b[0m \u001b[0;32mimport\u001b[0m \u001b[0mCatBoostClassifier\u001b[0m\u001b[0;34m\u001b[0m\u001b[0;34m\u001b[0m\u001b[0m\n\u001b[0m\u001b[1;32m      3\u001b[0m \u001b[0;32mfrom\u001b[0m \u001b[0msklearn\u001b[0m\u001b[0;34m.\u001b[0m\u001b[0mcalibration\u001b[0m \u001b[0;32mimport\u001b[0m \u001b[0mCalibratedClassifierCV\u001b[0m\u001b[0;34m\u001b[0m\u001b[0;34m\u001b[0m\u001b[0m\n\u001b[1;32m      4\u001b[0m \u001b[0;32mfrom\u001b[0m \u001b[0msklearn\u001b[0m\u001b[0;34m.\u001b[0m\u001b[0mmetrics\u001b[0m \u001b[0;32mimport\u001b[0m \u001b[0mroc_auc_score\u001b[0m\u001b[0;34m,\u001b[0m \u001b[0mconfusion_matrix\u001b[0m\u001b[0;34m,\u001b[0m \u001b[0mclassification_report\u001b[0m\u001b[0;34m\u001b[0m\u001b[0;34m\u001b[0m\u001b[0m\n\u001b[1;32m      5\u001b[0m \u001b[0;34m\u001b[0m\u001b[0m\n",
            "\u001b[0;31mModuleNotFoundError\u001b[0m: No module named 'catboost'",
            "",
            "\u001b[0;31m---------------------------------------------------------------------------\u001b[0;32m\nNOTE: If your import is failing due to a missing package, you can\nmanually install dependencies using either !pip or !apt.\n\nTo view examples of installing some common dependencies, click the\n\"Open Examples\" button below.\n\u001b[0;31m---------------------------------------------------------------------------\u001b[0m\n"
          ],
          "errorDetails": {
            "actions": [
              {
                "action": "open_url",
                "actionText": "Open Examples",
                "url": "/notebooks/snippets/importing_libraries.ipynb"
              }
            ]
          }
        }
      ]
    },
    {
      "cell_type": "code",
      "source": [
        "%pip install catboost"
      ],
      "metadata": {
        "id": "A3e9-dWLZPog"
      },
      "execution_count": null,
      "outputs": []
    },
    {
      "cell_type": "code",
      "source": [
        "import pandas as pd\n",
        "from catboost import CatBoostClassifier # Import CatBoostClassifier\n",
        "from sklearn.model_selection import train_test_split\n",
        "import numpy as np\n",
        "\n",
        "\n",
        "# Recreate df_model and X with necessary preprocessing steps\n",
        "df_model = df.copy() # Assuming df is available from previous cells\n",
        "\n",
        "# Konversi jam jadi numerik\n",
        "df_model[\"hour\"] = pd.to_datetime(df_model[\"jam\"], errors=\"coerce\").dt.hour\n",
        "\n",
        "# Drop kolom yang tidak dipakai\n",
        "df_model = df_model.drop(columns=[\"tahun\", \"tanggal\", \"bulan\", \"jam\", \"tanggal_fix\"])\n",
        "\n",
        "# One-hot encoding untuk kolom kategorikal\n",
        "df_model = pd.get_dummies(df_model, columns=[\"waktu\", \"cuaca\", \"fase\"], drop_first=True)\n",
        "\n",
        "# Pisahkan fitur dan target\n",
        "X = df_model.drop(\"strike\", axis=1)\n",
        "y = df_model[\"strike\"]\n",
        "\n",
        "# Split data to get scale_pos_weight from training set\n",
        "X_train, X_test, y_train, y_test = train_test_split(\n",
        "    X, y, test_size=0.3, random_state=42, stratify=y\n",
        ")\n",
        "\n",
        "# Hitung scale_pos_weight from the training data\n",
        "neg, pos = y_train.value_counts()\n",
        "scale_pos_weight = neg / pos\n",
        "\n",
        "# Train CatBoost model\n",
        "cat_model = CatBoostClassifier(\n",
        "    iterations=1000,\n",
        "    learning_rate=0.05,\n",
        "    depth=6,\n",
        "    eval_metric=\"AUC\",\n",
        "    random_seed=42,\n",
        "    verbose=0,  # Set verbose to 0 to reduce output during training\n",
        "    early_stopping_rounds=100,\n",
        "    scale_pos_weight=scale_pos_weight\n",
        ")\n",
        "\n",
        "# Fit the model\n",
        "cat_model.fit(X_train, y_train)\n",
        "\n",
        "\n",
        "# Use the trained cat_model for prediction\n",
        "y_prob = cat_model.predict_proba(X)[:, 1]  # get probability of class 1 (birdstrike)\n",
        "\n",
        "# add to dataframe\n",
        "df_model[\"prob_birdstrike\"] = y_prob\n",
        "\n",
        "# display some example rows\n",
        "# Use original column names for display (need to map back or use original df)\n",
        "# Assuming original df columns 'titik', 'waktu', 'cuaca', 'fase' are still desired for display\n",
        "\n",
        "# To display original values, we can merge or use the original df\n",
        "# Let's use the original df for display columns and merge with the prediction\n",
        "df_display = df[['titik', 'waktu', 'cuaca', 'fase']].copy()\n",
        "df_display['prob_birdstrike'] = y_prob # Assuming y_prob is in the same order as original df\n",
        "\n",
        "print(df_display.head(10))"
      ],
      "metadata": {
        "id": "Z8ctkDzLbUax",
        "colab": {
          "base_uri": "https://localhost:8080/"
        },
        "outputId": "7e5942fb-1a8a-4a99-a086-c6ff6c0ca070"
      },
      "execution_count": null,
      "outputs": [
        {
          "output_type": "stream",
          "name": "stdout",
          "text": [
            "Requirement already satisfied: catboost in /usr/local/lib/python3.12/dist-packages (1.2.8)\n",
            "Requirement already satisfied: graphviz in /usr/local/lib/python3.12/dist-packages (from catboost) (0.21)\n",
            "Requirement already satisfied: matplotlib in /usr/local/lib/python3.12/dist-packages (from catboost) (3.10.0)\n",
            "Requirement already satisfied: numpy<3.0,>=1.16.0 in /usr/local/lib/python3.12/dist-packages (from catboost) (2.0.2)\n",
            "Requirement already satisfied: pandas>=0.24 in /usr/local/lib/python3.12/dist-packages (from catboost) (2.2.2)\n",
            "Requirement already satisfied: scipy in /usr/local/lib/python3.12/dist-packages (from catboost) (1.16.1)\n",
            "Requirement already satisfied: plotly in /usr/local/lib/python3.12/dist-packages (from catboost) (5.24.1)\n",
            "Requirement already satisfied: six in /usr/local/lib/python3.12/dist-packages (from catboost) (1.17.0)\n",
            "Requirement already satisfied: python-dateutil>=2.8.2 in /usr/local/lib/python3.12/dist-packages (from pandas>=0.24->catboost) (2.9.0.post0)\n",
            "Requirement already satisfied: pytz>=2020.1 in /usr/local/lib/python3.12/dist-packages (from pandas>=0.24->catboost) (2025.2)\n",
            "Requirement already satisfied: tzdata>=2022.7 in /usr/local/lib/python3.12/dist-packages (from pandas>=0.24->catboost) (2025.2)\n",
            "Requirement already satisfied: contourpy>=1.0.1 in /usr/local/lib/python3.12/dist-packages (from matplotlib->catboost) (1.3.3)\n",
            "Requirement already satisfied: cycler>=0.10 in /usr/local/lib/python3.12/dist-packages (from matplotlib->catboost) (0.12.1)\n",
            "Requirement already satisfied: fonttools>=4.22.0 in /usr/local/lib/python3.12/dist-packages (from matplotlib->catboost) (4.59.1)\n",
            "Requirement already satisfied: kiwisolver>=1.3.1 in /usr/local/lib/python3.12/dist-packages (from matplotlib->catboost) (1.4.9)\n",
            "Requirement already satisfied: packaging>=20.0 in /usr/local/lib/python3.12/dist-packages (from matplotlib->catboost) (25.0)\n",
            "Requirement already satisfied: pillow>=8 in /usr/local/lib/python3.12/dist-packages (from matplotlib->catboost) (11.3.0)\n",
            "Requirement already satisfied: pyparsing>=2.3.1 in /usr/local/lib/python3.12/dist-packages (from matplotlib->catboost) (3.2.3)\n",
            "Requirement already satisfied: tenacity>=6.2.0 in /usr/local/lib/python3.12/dist-packages (from plotly->catboost) (8.5.0)\n"
          ]
        },
        {
          "output_type": "stream",
          "name": "stderr",
          "text": [
            "/tmp/ipython-input-2655748113.py:13: UserWarning: Could not infer format, so each element will be parsed individually, falling back to `dateutil`. To ensure parsing is consistent and as-expected, please specify a format.\n",
            "  df_model[\"hour\"] = pd.to_datetime(df_model[\"jam\"], errors=\"coerce\").dt.hour\n"
          ]
        },
        {
          "output_type": "stream",
          "name": "stdout",
          "text": [
            "   titik  waktu          cuaca      fase  prob_birdstrike\n",
            "0      2  Malam          Hujan   Landing         0.000112\n",
            "1      1  Malam        Mendung   Landing         0.935368\n",
            "2      1   Sore        Mendung   Landing         0.935548\n",
            "3      5  Siang          Hujan  Take Off         0.000134\n",
            "4      2  Siang          Hujan   Landing         0.000721\n",
            "5      3   Pagi        Mendung   Landing         0.951240\n",
            "6      1  Malam        Mendung   Landing         0.935490\n",
            "7      4   Sore  Cerah Berawan   Landing         0.001484\n",
            "8      2  Siang  Cerah Berawan   Landing         0.996736\n",
            "9      5  Siang          Hujan   Landing         0.919949\n"
          ]
        }
      ]
    },
    {
      "cell_type": "code",
      "source": [],
      "metadata": {
        "id": "Oa6KUeJUYOUD"
      },
      "execution_count": null,
      "outputs": []
    }
  ]
}